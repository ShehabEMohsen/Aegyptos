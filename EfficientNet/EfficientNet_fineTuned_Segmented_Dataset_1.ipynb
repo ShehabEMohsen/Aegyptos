{
  "cells": [
    {
      "cell_type": "code",
      "execution_count": 1,
      "metadata": {},
      "outputs": [
        {
          "name": "stderr",
          "output_type": "stream",
          "text": [
            "C:\\Users\\sigma\\AppData\\Local\\Packages\\PythonSoftwareFoundation.Python.3.10_qbz5n2kfra8p0\\LocalCache\\local-packages\\Python310\\site-packages\\tqdm\\auto.py:22: TqdmWarning: IProgress not found. Please update jupyter and ipywidgets. See https://ipywidgets.readthedocs.io/en/stable/user_install.html\n",
            "  from .autonotebook import tqdm as notebook_tqdm\n"
          ]
        }
      ],
      "source": [
        "from torchinfo import summary"
      ]
    },
    {
      "cell_type": "code",
      "execution_count": 2,
      "metadata": {
        "colab": {
          "base_uri": "https://localhost:8080/"
        },
        "id": "ofSv1lII_5i5",
        "outputId": "723b19d2-b08c-44a1-b1a9-d1ab32af4079"
      },
      "outputs": [
        {
          "name": "stdout",
          "output_type": "stream",
          "text": [
            "torch version: 1.13.0+cpu\n",
            "torchvision version: 0.14.0+cpu\n"
          ]
        }
      ],
      "source": [
        "try:\n",
        "    import torch\n",
        "    import torchvision\n",
        "    assert int(torch.__version__.split(\".\")[1]) >= 12, \"torch version should be 1.12+\"\n",
        "    assert int(torchvision.__version__.split(\".\")[1]) >= 13, \"torchvision version should be 0.13+\"\n",
        "    print(f\"torch version: {torch.__version__}\")\n",
        "    print(f\"torchvision version: {torchvision.__version__}\")\n",
        "except:\n",
        "    print(f\"[INFO] torch/torchvision versions not as required, installing nightly versions.\")\n",
        "    \n",
        "    import torch\n",
        "    import torchvision\n",
        "    print(f\"torch version: {torch.__version__}\")\n",
        "    print(f\"torchvision version: {torchvision.__version__}\")"
      ]
    },
    {
      "cell_type": "code",
      "execution_count": 3,
      "metadata": {
        "colab": {
          "base_uri": "https://localhost:8080/"
        },
        "id": "WjYDwxzUBX8Z",
        "outputId": "30b2523d-bbf8-42f8-df96-644e15c667a7"
      },
      "outputs": [],
      "source": [
        "import matplotlib.pyplot as plt\n",
        "import torch\n",
        "import torchvision\n",
        "\n",
        "from torch import nn\n",
        "from torchvision import transforms\n",
        "\n",
        "# # Try to get torchinfo, install it if it doesn't work\n",
        "# try:\n",
        "#     from torchinfo import summary\n",
        "# except:\n",
        "#     print(\"[INFO] Couldn't find torchinfo... installing it.\")\n",
        "#     !pip install -q torchinfo\n",
        "#     from torchinfo import summary\n",
        "\n",
        "# # Try to import the going_modular directory, download it from GitHub if it doesn't work\n",
        "# try:\n",
        "#     from going_modular.going_modular import data_setup, engine\n",
        "# except:\n",
        "#     # Get the going_modular scripts\n",
        "#     print(\"[INFO] Couldn't find going_modular scripts... downloading them from GitHub.\")\n",
        "#     !git clone https://github.com/mrdbourke/pytorch-deep-learning\n",
        "#     !mv pytorch-deep-learning/going_modular .\n",
        "#     !rm -rf pytorch-deep-learning\n",
        "#     from going_modular.going_modular import data_setup, engine"
      ]
    },
    {
      "cell_type": "code",
      "execution_count": 4,
      "metadata": {
        "colab": {
          "base_uri": "https://localhost:8080/",
          "height": 36
        },
        "id": "RAPrghM9Bsam",
        "outputId": "cb729328-9bdb-4f3e-a71e-2725586acb97"
      },
      "outputs": [
        {
          "data": {
            "text/plain": [
              "'cpu'"
            ]
          },
          "execution_count": 4,
          "metadata": {},
          "output_type": "execute_result"
        }
      ],
      "source": [
        "# Setup device agnostic code\n",
        "device = \"cuda\" if torch.cuda.is_available() else \"cpu\"\n",
        "device"
      ]
    },
    {
      "cell_type": "code",
      "execution_count": 5,
      "metadata": {
        "id": "ezxtdTq7ROdn"
      },
      "outputs": [],
      "source": [
        "import torch\n",
        "\n",
        "from tqdm.auto import tqdm\n",
        "from typing import Dict, List, Tuple\n",
        "import matplotlib.pyplot as plt\n",
        "import numpy\n",
        "from sklearn import metrics\n",
        "from sklearn.metrics import precision_score\n",
        "from sklearn.metrics import recall_score\n",
        "from sklearn.metrics import f1_score"
      ]
    },
    {
      "cell_type": "code",
      "execution_count": 6,
      "metadata": {
        "id": "y_jqHJ4CRPOr"
      },
      "outputs": [],
      "source": [
        "def train_step(model: torch.nn.Module,\n",
        "               dataloader: torch.utils.data.DataLoader,\n",
        "               loss_fn: torch.nn.Module,\n",
        "               optimizer: torch.optim.Optimizer,\n",
        "               device: torch.device) -> Tuple[float, float]:\n",
        "\n",
        "    # Put model in train mode\n",
        "    model.train()\n",
        "\n",
        "    # Setup train loss and train accuracy values\n",
        "    train_loss, train_acc, precision, recall, score = 0, 0, 0, 0, 0\n",
        "\n",
        "    # Loop through data loader data batches\n",
        "    for batch, (X, y) in enumerate(dataloader):\n",
        "        # Send data to target device\n",
        "        X, y = X.to(device), y.to(device)\n",
        "\n",
        "        # 1. Forward pass\n",
        "        y_pred = model(X)\n",
        "\n",
        "        # 2. Calculate  and accumulate loss\n",
        "        loss = loss_fn(y_pred, y)\n",
        "        train_loss += loss.item()\n",
        "\n",
        "        # 3. Optimizer zero grad\n",
        "        optimizer.zero_grad()\n",
        "\n",
        "        # 4. Loss backward\n",
        "        loss.backward()\n",
        "\n",
        "        # 5. Optimizer step\n",
        "        optimizer.step()\n",
        "\n",
        "        # Calculate and accumulate accuracy metric across all batches\n",
        "        y_pred_class = torch.argmax(torch.softmax(y_pred, dim=1), dim=1)\n",
        "        train_acc += (y_pred_class == y).sum().item()/len(y_pred)\n",
        "        precision = precision_score(y, y_pred_class, average='macro')\n",
        "        recall = recall_score(y, y_pred_class, average='macro')\n",
        "        score = f1_score(y, y_pred_class, average='weighted')\n",
        "\n",
        "    # Adjust metrics to get average loss and accuracy per batch\n",
        "    train_loss = train_loss / len(dataloader)\n",
        "    train_acc = train_acc / len(dataloader)\n",
        "    precision = precision / len(dataloader)\n",
        "    recall = recall / len(dataloader)\n",
        "    score = score / len(dataloader)\n",
        "\n",
        "    return train_loss, train_acc, precision, recall, score"
      ]
    },
    {
      "cell_type": "code",
      "execution_count": 7,
      "metadata": {
        "id": "stI78vflRS0t"
      },
      "outputs": [],
      "source": [
        "def test_step(model: torch.nn.Module,\n",
        "              dataloader: torch.utils.data.DataLoader,\n",
        "              loss_fn: torch.nn.Module,\n",
        "              device: torch.device) -> Tuple[float, float]:\n",
        "\n",
        "    # Put model in eval mode\n",
        "    model.eval()\n",
        "\n",
        "    # Setup test loss and test accuracy values\n",
        "    test_loss, test_acc = 0, 0\n",
        "\n",
        "    # Turn on inference context manager\n",
        "    with torch.inference_mode():\n",
        "        # Loop through DataLoader batches\n",
        "        for batch, (X, y) in enumerate(dataloader):\n",
        "            # Send data to target device\n",
        "            X, y = X.to(device), y.to(device)\n",
        "\n",
        "            # 1. Forward pass\n",
        "            test_pred_logits = model(X)\n",
        "\n",
        "            # 2. Calculate and accumulate loss\n",
        "            loss = loss_fn(test_pred_logits, y)\n",
        "            test_loss += loss.item()\n",
        "\n",
        "            # Calculate and accumulate accuracy\n",
        "            test_pred_labels = test_pred_logits.argmax(dim=1)\n",
        "            test_acc += ((test_pred_labels == y).sum().item()/len(test_pred_labels))\n",
        "\n",
        "    # Adjust metrics to get average loss and accuracy per batch\n",
        "    test_loss = test_loss / len(dataloader)\n",
        "    test_acc = test_acc / len(dataloader)\n",
        "    return test_loss, test_acc\n"
      ]
    },
    {
      "cell_type": "code",
      "execution_count": 8,
      "metadata": {
        "id": "a6hJyuVbRSpa"
      },
      "outputs": [],
      "source": [
        "def train(model: torch.nn.Module,\n",
        "          train_dataloader: torch.utils.data.DataLoader,\n",
        "          test_dataloader: torch.utils.data.DataLoader,\n",
        "          optimizer: torch.optim.Optimizer,\n",
        "          loss_fn: torch.nn.Module,\n",
        "          epochs: int,\n",
        "          device: torch.device) -> Dict[str, List]:\n",
        "    # Create empty results dictionary\n",
        "    results = {\"train_loss\": [],\n",
        "               \"train_acc\": [],\n",
        "               \"precision\": [],\n",
        "               \"recall\": [],\n",
        "               \"f1 score\": [],\n",
        "               \"test_loss\": [],\n",
        "               \"test_acc\": []\n",
        "    }\n",
        "\n",
        "    # Make sure model on target device\n",
        "    model.to(device)\n",
        "\n",
        "    # Loop through training and testing steps for a number of epochs\n",
        "    for epoch in tqdm(range(epochs)):\n",
        "        train_loss, train_acc, precision, recall, score = train_step(model=model,\n",
        "                                          dataloader=train_dataloader,\n",
        "                                          loss_fn=loss_fn,\n",
        "                                          optimizer=optimizer,\n",
        "                                          device=device)\n",
        "        test_loss, test_acc, = test_step(model=model,\n",
        "          dataloader=test_dataloader,\n",
        "          loss_fn=loss_fn,\n",
        "          device=device)\n",
        "\n",
        "        # Print out what's happening\n",
        "        print(\n",
        "          f\"Epoch: {epoch+1} | \")\n",
        "        print(\n",
        "          f\"train_loss: {train_loss:.4f} | \"\n",
        "          f\"train_acc: {train_acc:.4f} | \"\n",
        "          f\"precision: {precision:.4f} | \"\n",
        "          f\"recall: {recall:.4f} | \"\n",
        "          f\"f1 score: {score:.4f} | \"\n",
        "          f\"test_loss: {test_loss:.4f} | \"\n",
        "          f\"test_acc: {test_acc:.4f}\"\n",
        "        )\n",
        "\n",
        "        # Update results dictionary\n",
        "        results[\"train_loss\"].append(train_loss)\n",
        "        results[\"train_acc\"].append(train_acc)\n",
        "        results[\"precision\"].append(precision)\n",
        "        results[\"recall\"].append(recall)\n",
        "        results[\"f1 score\"].append(score)\n",
        "        results[\"test_loss\"].append(test_loss)\n",
        "        results[\"test_acc\"].append(test_acc)\n",
        "\n",
        "    # Return the filled results at the end of the epochs\n",
        "    return results"
      ]
    },
    {
      "cell_type": "code",
      "execution_count": 9,
      "metadata": {
        "id": "9APYR-llzYZV"
      },
      "outputs": [],
      "source": [
        "# ---------------------------------------- Data Setup file content-------------------------------\n",
        "\n",
        "import os\n",
        "\n",
        "from torchvision import datasets, transforms\n",
        "from torch.utils.data import DataLoader\n",
        "\n",
        "NUM_WORKERS = os.cpu_count()\n",
        "\n",
        "def create_dataloaders(\n",
        "    train_dir: str,\n",
        "    test_dir: str,\n",
        "    transform: transforms.Compose,\n",
        "    batch_size: int,\n",
        "    num_workers: int=NUM_WORKERS\n",
        "):\n",
        "\n",
        "\n",
        "  # Use ImageFolder to create dataset(s)\n",
        "  train_data = datasets.ImageFolder(train_dir, transform=transform)\n",
        "  test_data = datasets.ImageFolder(test_dir, transform=transform)\n",
        "\n",
        "  # Get class names\n",
        "  class_names = train_data.classes\n",
        "\n",
        "  # Turn images into data loaders\n",
        "  train_dataloader = DataLoader(\n",
        "      train_data,\n",
        "      batch_size=batch_size,\n",
        "      shuffle=True,\n",
        "      num_workers=num_workers,\n",
        "      pin_memory=True,\n",
        "  )\n",
        "  test_dataloader = DataLoader(\n",
        "      test_data,\n",
        "      batch_size=batch_size,\n",
        "      shuffle=False,\n",
        "      num_workers=num_workers,\n",
        "      pin_memory=True,\n",
        "  )\n",
        "\n",
        "  return train_dataloader, test_dataloader, class_names\n"
      ]
    },
    {
      "cell_type": "code",
      "execution_count": 16,
      "metadata": {
        "colab": {
          "base_uri": "https://localhost:8080/"
        },
        "id": "JHOc_-txB_V3",
        "outputId": "83e5003b-567a-46ab-fab3-0835a4823d99"
      },
      "outputs": [
        {
          "name": "stdout",
          "output_type": "stream",
          "text": [
            "SegmentedDataset directory exists.\n"
          ]
        }
      ],
      "source": [
        "import os\n",
        "import zipfile\n",
        "\n",
        "from pathlib import Path\n",
        "\n",
        "import requests\n",
        "\n",
        "# Setup path to data folder\n",
        "\n",
        "image_path = Path(\"SegmentedDataset\")\n",
        "\n",
        "# If the image folder doesn't exist, download it and prepare it...\n",
        "if image_path.is_dir():\n",
        "    print(f\"{image_path} directory exists.\")\n",
        "\n",
        "# Setup Dirs\n",
        "train_dir = image_path / \"train\"\n",
        "test_dir = image_path / \"test\""
      ]
    },
    {
      "cell_type": "code",
      "execution_count": 12,
      "metadata": {
        "id": "nWD_2kRMnYsY"
      },
      "outputs": [],
      "source": [
        "engine_file = ('/content/gdrive/MyDrive/Colab Notebooks/engine (edited).ipynb')"
      ]
    },
    {
      "cell_type": "code",
      "execution_count": 13,
      "metadata": {
        "id": "6vU9Ycz0H3HI"
      },
      "outputs": [],
      "source": [
        "normalize = transforms.Normalize(mean=[0.485, 0.456, 0.406],\n",
        "                                 std=[0.229, 0.224, 0.225])\n",
        "\n",
        "# Create a transforms pipeline manually (required for torchvision < 0.13)\n",
        "manual_transforms = transforms.Compose([\n",
        "    transforms.Resize((224, 224)), # 1. Reshape all images to 224x224 (though some models may require different sizes)\n",
        "    transforms.ToTensor(), # 2. Turn image values to between 0 & 1\n",
        "    transforms.Normalize(mean=[0.485, 0.456, 0.406], # 3. A mean of [0.485, 0.456, 0.406] (across each colour channel)\n",
        "                         std=[0.229, 0.224, 0.225]) # 4. A standard deviation of [0.229, 0.224, 0.225] (across each colour channel),\n",
        "])"
      ]
    },
    {
      "cell_type": "code",
      "execution_count": 17,
      "metadata": {
        "colab": {
          "base_uri": "https://localhost:8080/"
        },
        "id": "_cF9MB4AIWdK",
        "outputId": "eb78b9c7-b398-4ca2-a3be-13dc1a1d492f"
      },
      "outputs": [
        {
          "data": {
            "text/plain": [
              "(<torch.utils.data.dataloader.DataLoader at 0x2b186825810>,\n",
              " <torch.utils.data.dataloader.DataLoader at 0x2b186827d60>,\n",
              " ['A001',\n",
              "  'A002',\n",
              "  'A003',\n",
              "  'A004',\n",
              "  'A005',\n",
              "  'A005A',\n",
              "  'A006',\n",
              "  'A006A',\n",
              "  'A006B',\n",
              "  'A007',\n",
              "  'A008',\n",
              "  'A009',\n",
              "  'A010',\n",
              "  'A011',\n",
              "  'A012',\n",
              "  'A013',\n",
              "  'A014',\n",
              "  'A014A',\n",
              "  'A015',\n",
              "  'A016',\n",
              "  'A017',\n",
              "  'A017A',\n",
              "  'A018',\n",
              "  'A019',\n",
              "  'A020',\n",
              "  'A021',\n",
              "  'A022',\n",
              "  'A023',\n",
              "  'A024',\n",
              "  'A025',\n",
              "  'A026',\n",
              "  'A027',\n",
              "  'A028',\n",
              "  'A029',\n",
              "  'A030',\n",
              "  'A031',\n",
              "  'A032',\n",
              "  'A032A',\n",
              "  'A033',\n",
              "  'A034',\n",
              "  'A035',\n",
              "  'A036',\n",
              "  'A037',\n",
              "  'A038',\n",
              "  'A039',\n",
              "  'A040',\n",
              "  'A040A',\n",
              "  'A041',\n",
              "  'A042',\n",
              "  'A042A',\n",
              "  'A043',\n",
              "  'A043A',\n",
              "  'A044',\n",
              "  'A045',\n",
              "  'A045A',\n",
              "  'A046',\n",
              "  'A047',\n",
              "  'A048',\n",
              "  'A049',\n",
              "  'A050',\n",
              "  'A051',\n",
              "  'A052',\n",
              "  'A053',\n",
              "  'A054',\n",
              "  'A055',\n",
              "  'A056',\n",
              "  'A057',\n",
              "  'A058',\n",
              "  'A059',\n",
              "  'A060',\n",
              "  'A061',\n",
              "  'A062',\n",
              "  'A063',\n",
              "  'A064',\n",
              "  'A065',\n",
              "  'A066',\n",
              "  'A067',\n",
              "  'A068',\n",
              "  'A069',\n",
              "  'A070',\n",
              "  'AA001',\n",
              "  'AA002',\n",
              "  'AA003',\n",
              "  'AA004',\n",
              "  'AA005',\n",
              "  'AA006',\n",
              "  'AA007',\n",
              "  'AA007A',\n",
              "  'AA007B',\n",
              "  'AA008',\n",
              "  'AA009',\n",
              "  'AA010',\n",
              "  'AA011',\n",
              "  'AA012',\n",
              "  'AA013',\n",
              "  'AA014',\n",
              "  'AA015',\n",
              "  'AA016',\n",
              "  'AA017',\n",
              "  'AA018',\n",
              "  'AA019',\n",
              "  'AA020',\n",
              "  'AA021',\n",
              "  'AA022',\n",
              "  'AA023',\n",
              "  'AA024',\n",
              "  'AA025',\n",
              "  'AA026',\n",
              "  'AA027',\n",
              "  'AA028',\n",
              "  'AA029',\n",
              "  'AA030',\n",
              "  'AA031',\n",
              "  'AA032',\n",
              "  'B001',\n",
              "  'B002',\n",
              "  'B003',\n",
              "  'B004',\n",
              "  'B005',\n",
              "  'B005A',\n",
              "  'B006',\n",
              "  'B007',\n",
              "  'B008',\n",
              "  'B009',\n",
              "  'C001',\n",
              "  'C002',\n",
              "  'C002A',\n",
              "  'C002B',\n",
              "  'C002C',\n",
              "  'C003',\n",
              "  'C004',\n",
              "  'C005',\n",
              "  'C006',\n",
              "  'C007',\n",
              "  'C008',\n",
              "  'C009',\n",
              "  'C010',\n",
              "  'C010A',\n",
              "  'C011',\n",
              "  'C012',\n",
              "  'C013',\n",
              "  'C014',\n",
              "  'C015',\n",
              "  'C016',\n",
              "  'C017',\n",
              "  'C018',\n",
              "  'C019',\n",
              "  'C020',\n",
              "  'C021',\n",
              "  'C022',\n",
              "  'C023',\n",
              "  'C024',\n",
              "  'D001',\n",
              "  'D002',\n",
              "  'D003',\n",
              "  'D004',\n",
              "  'D005',\n",
              "  'D006',\n",
              "  'D007',\n",
              "  'D008',\n",
              "  'D008A',\n",
              "  'D009',\n",
              "  'D010',\n",
              "  'D011',\n",
              "  'D012',\n",
              "  'D013',\n",
              "  'D014',\n",
              "  'D015',\n",
              "  'D016',\n",
              "  'D017',\n",
              "  'D018',\n",
              "  'D019',\n",
              "  'D020',\n",
              "  'D021',\n",
              "  'D022',\n",
              "  'D023',\n",
              "  'D024',\n",
              "  'D025',\n",
              "  'D026',\n",
              "  'D027',\n",
              "  'D027A',\n",
              "  'D028',\n",
              "  'D029',\n",
              "  'D030',\n",
              "  'D031',\n",
              "  'D031A',\n",
              "  'D032',\n",
              "  'D033',\n",
              "  'D034',\n",
              "  'D034A',\n",
              "  'D035',\n",
              "  'D036',\n",
              "  'D037',\n",
              "  'D038',\n",
              "  'D039',\n",
              "  'D040',\n",
              "  'D041',\n",
              "  'D042',\n",
              "  'D043',\n",
              "  'D044',\n",
              "  'D045',\n",
              "  'D046',\n",
              "  'D046A',\n",
              "  'D047',\n",
              "  'D048',\n",
              "  'D048A',\n",
              "  'D049',\n",
              "  'D050',\n",
              "  'D050A',\n",
              "  'D050B',\n",
              "  'D050C',\n",
              "  'D050D',\n",
              "  'D050E',\n",
              "  'D050F',\n",
              "  'D050G',\n",
              "  'D050H',\n",
              "  'D050I',\n",
              "  'D051',\n",
              "  'D052',\n",
              "  'D052A',\n",
              "  'D053',\n",
              "  'D054',\n",
              "  'D054A',\n",
              "  'D055',\n",
              "  'D056',\n",
              "  'D057',\n",
              "  'D058',\n",
              "  'D059',\n",
              "  'D060',\n",
              "  'D061',\n",
              "  'D062',\n",
              "  'D063',\n",
              "  'D064',\n",
              "  'D065',\n",
              "  'D066',\n",
              "  'D067',\n",
              "  'D067A',\n",
              "  'D067B',\n",
              "  'D067C',\n",
              "  'D067D',\n",
              "  'D067E',\n",
              "  'D067F',\n",
              "  'D067G',\n",
              "  'D067H',\n",
              "  'E001',\n",
              "  'E002',\n",
              "  'E003',\n",
              "  'E004',\n",
              "  'E005',\n",
              "  'E006',\n",
              "  'E007',\n",
              "  'E008',\n",
              "  'E008A',\n",
              "  'E009',\n",
              "  'E009A',\n",
              "  'E010',\n",
              "  'E011',\n",
              "  'E012',\n",
              "  'E013',\n",
              "  'E014',\n",
              "  'E015',\n",
              "  'E016',\n",
              "  'E016A',\n",
              "  'E017',\n",
              "  'E017A',\n",
              "  'E018',\n",
              "  'E019',\n",
              "  'E020',\n",
              "  'E020A',\n",
              "  'E021',\n",
              "  'E022',\n",
              "  'E023',\n",
              "  'E024',\n",
              "  'E025',\n",
              "  'E026',\n",
              "  'E027',\n",
              "  'E028',\n",
              "  'E028A',\n",
              "  'E029',\n",
              "  'E030',\n",
              "  'E031',\n",
              "  'E032',\n",
              "  'E033',\n",
              "  'E034',\n",
              "  'E034A',\n",
              "  'E036',\n",
              "  'E037',\n",
              "  'E038',\n",
              "  'F001',\n",
              "  'F001A',\n",
              "  'F002',\n",
              "  'F003',\n",
              "  'F004',\n",
              "  'F005',\n",
              "  'F006',\n",
              "  'F007',\n",
              "  'F008',\n",
              "  'F009',\n",
              "  'F010',\n",
              "  'F011',\n",
              "  'F012',\n",
              "  'F013',\n",
              "  'F013A',\n",
              "  'F014',\n",
              "  'F015',\n",
              "  'F016',\n",
              "  'F017',\n",
              "  'F018',\n",
              "  'F019',\n",
              "  'F020',\n",
              "  'F021',\n",
              "  'F021A',\n",
              "  'F022',\n",
              "  'F023',\n",
              "  'F024',\n",
              "  'F025',\n",
              "  'F026',\n",
              "  'F027',\n",
              "  'F028',\n",
              "  'F029',\n",
              "  'F030',\n",
              "  'F031',\n",
              "  'F031A',\n",
              "  'F032',\n",
              "  'F033',\n",
              "  'F034',\n",
              "  'F035',\n",
              "  'F036',\n",
              "  'F037',\n",
              "  'F037A',\n",
              "  'F038',\n",
              "  'F038A',\n",
              "  'F039',\n",
              "  'F040',\n",
              "  'F041',\n",
              "  'F042',\n",
              "  'F043',\n",
              "  'F044',\n",
              "  'F045',\n",
              "  'F045A',\n",
              "  'F046',\n",
              "  'F046A',\n",
              "  'F047',\n",
              "  'F047A',\n",
              "  'F048',\n",
              "  'F049',\n",
              "  'F050',\n",
              "  'F051',\n",
              "  'F051A',\n",
              "  'F051B',\n",
              "  'F051C',\n",
              "  'F052',\n",
              "  'F053',\n",
              "  'G001',\n",
              "  'G002',\n",
              "  'G003',\n",
              "  'G004',\n",
              "  'G005',\n",
              "  'G006',\n",
              "  'G006A',\n",
              "  'G007',\n",
              "  'G007A',\n",
              "  'G007B',\n",
              "  'G008',\n",
              "  'G009',\n",
              "  'G010',\n",
              "  'G011',\n",
              "  'G011A',\n",
              "  'G012',\n",
              "  'G013',\n",
              "  'G014',\n",
              "  'G015',\n",
              "  'G016',\n",
              "  'G017',\n",
              "  'G018',\n",
              "  'G019',\n",
              "  'G020',\n",
              "  'G020A',\n",
              "  'G021',\n",
              "  'G022',\n",
              "  'G023',\n",
              "  'G024',\n",
              "  'G025',\n",
              "  'G026',\n",
              "  'G026A',\n",
              "  'G027',\n",
              "  'G028',\n",
              "  'G029',\n",
              "  'G030',\n",
              "  'G031',\n",
              "  'G032',\n",
              "  'G033',\n",
              "  'G034',\n",
              "  'G035',\n",
              "  'G036',\n",
              "  'G036A',\n",
              "  'G037',\n",
              "  'G037A',\n",
              "  'G038',\n",
              "  'G039',\n",
              "  'G040',\n",
              "  'G041',\n",
              "  'G042',\n",
              "  'G043',\n",
              "  'G043A',\n",
              "  'G044',\n",
              "  'G045',\n",
              "  'G045A',\n",
              "  'G046',\n",
              "  'G047',\n",
              "  'G048',\n",
              "  'G049',\n",
              "  'G050',\n",
              "  'G051',\n",
              "  'G052',\n",
              "  'G053',\n",
              "  'G054',\n",
              "  'H001',\n",
              "  'H002',\n",
              "  'H003',\n",
              "  'H004',\n",
              "  'H005',\n",
              "  'H006',\n",
              "  'H006A',\n",
              "  'H007',\n",
              "  'H008',\n",
              "  'I001',\n",
              "  'I002',\n",
              "  'I003',\n",
              "  'I004',\n",
              "  'I005',\n",
              "  'I005A',\n",
              "  'I006',\n",
              "  'I007',\n",
              "  'I008',\n",
              "  'I009',\n",
              "  'I009A',\n",
              "  'I010',\n",
              "  'I010A',\n",
              "  'I011',\n",
              "  'I011A',\n",
              "  'I012',\n",
              "  'I013',\n",
              "  'I014',\n",
              "  'I015',\n",
              "  'K001',\n",
              "  'K002',\n",
              "  'K003',\n",
              "  'K004',\n",
              "  'K005',\n",
              "  'K006',\n",
              "  'K007',\n",
              "  'K008',\n",
              "  'L001',\n",
              "  'L002',\n",
              "  'L002A',\n",
              "  'L003',\n",
              "  'L004',\n",
              "  'L005',\n",
              "  'L006',\n",
              "  'L006A',\n",
              "  'L007',\n",
              "  'L008',\n",
              "  'M001',\n",
              "  'M001A',\n",
              "  'M001B',\n",
              "  'M002',\n",
              "  'M003',\n",
              "  'M003A',\n",
              "  'M004',\n",
              "  'M005',\n",
              "  'M006',\n",
              "  'M007',\n",
              "  'M008',\n",
              "  'M009',\n",
              "  'M010',\n",
              "  'M010A',\n",
              "  'M011',\n",
              "  'M012',\n",
              "  'M012A',\n",
              "  'M012B',\n",
              "  'M012C',\n",
              "  'M012D',\n",
              "  'M012E',\n",
              "  'M012F',\n",
              "  'M012G',\n",
              "  'M012H',\n",
              "  'M013',\n",
              "  'M014',\n",
              "  'M015',\n",
              "  'M015A',\n",
              "  'M016',\n",
              "  'M016A',\n",
              "  'M017',\n",
              "  'M017A',\n",
              "  'M018',\n",
              "  'M019',\n",
              "  'M020',\n",
              "  'M021',\n",
              "  'M022',\n",
              "  'M022A',\n",
              "  'M023',\n",
              "  'M024',\n",
              "  'M024A',\n",
              "  'M025',\n",
              "  'M026',\n",
              "  'M027',\n",
              "  'M028',\n",
              "  'M028A',\n",
              "  'M029',\n",
              "  'M030',\n",
              "  'M031',\n",
              "  'M031A',\n",
              "  'M032',\n",
              "  'M033',\n",
              "  'M033A',\n",
              "  'M033B',\n",
              "  'M034',\n",
              "  'M035',\n",
              "  'M036',\n",
              "  'M037',\n",
              "  'M038',\n",
              "  'M039',\n",
              "  'M040',\n",
              "  'M040A',\n",
              "  'M041',\n",
              "  'M042',\n",
              "  'M043',\n",
              "  'M044',\n",
              "  'N001',\n",
              "  'N002',\n",
              "  'N003',\n",
              "  'N004',\n",
              "  'N005',\n",
              "  'N006',\n",
              "  'N007',\n",
              "  'N008',\n",
              "  'N009',\n",
              "  'N010',\n",
              "  'N011',\n",
              "  'N012',\n",
              "  'N013',\n",
              "  'N014',\n",
              "  'N015',\n",
              "  'N016',\n",
              "  'N017',\n",
              "  'N018',\n",
              "  'N018A',\n",
              "  'N018B',\n",
              "  'N019',\n",
              "  'N020',\n",
              "  'N021',\n",
              "  'N022',\n",
              "  'N023',\n",
              "  'N024',\n",
              "  'N025',\n",
              "  'N025A',\n",
              "  'N026',\n",
              "  'N027',\n",
              "  'N028',\n",
              "  'N029',\n",
              "  'N030',\n",
              "  'N031',\n",
              "  'N032',\n",
              "  'N033',\n",
              "  'N033A',\n",
              "  'N034',\n",
              "  'N034A',\n",
              "  'N035',\n",
              "  'N035A',\n",
              "  'N036',\n",
              "  'N037',\n",
              "  'N037A',\n",
              "  'N038',\n",
              "  'N039',\n",
              "  'N040',\n",
              "  'N041',\n",
              "  'N042',\n",
              "  'NL001',\n",
              "  'NL002',\n",
              "  'NL003',\n",
              "  'NL004',\n",
              "  'NL005',\n",
              "  'NL005A',\n",
              "  'NL006',\n",
              "  'NL007',\n",
              "  'NL008',\n",
              "  'NL009',\n",
              "  'NL010',\n",
              "  'NL011',\n",
              "  'NL012',\n",
              "  'NL013',\n",
              "  'NL014',\n",
              "  'NL015',\n",
              "  'NL016',\n",
              "  'NL017',\n",
              "  'NL017A',\n",
              "  'NL018',\n",
              "  'NL019',\n",
              "  'NL020',\n",
              "  'NU001',\n",
              "  'NU002',\n",
              "  'NU003',\n",
              "  'NU004',\n",
              "  'NU005',\n",
              "  'NU006',\n",
              "  'NU007',\n",
              "  'NU008',\n",
              "  'NU009',\n",
              "  'NU010',\n",
              "  'NU010A',\n",
              "  'NU011',\n",
              "  'NU011A',\n",
              "  'NU012',\n",
              "  'NU013',\n",
              "  'NU014',\n",
              "  'NU015',\n",
              "  'NU016',\n",
              "  'NU017',\n",
              "  'NU018',\n",
              "  'NU018A',\n",
              "  'NU019',\n",
              "  'NU020',\n",
              "  'NU021',\n",
              "  'NU022',\n",
              "  'NU022A',\n",
              "  'O001',\n",
              "  'O001A',\n",
              "  'O002',\n",
              "  'O003',\n",
              "  'O004',\n",
              "  'O005',\n",
              "  'O005A',\n",
              "  'O006',\n",
              "  'O006A',\n",
              "  'O006B',\n",
              "  'O006C',\n",
              "  'O006D',\n",
              "  'O006E',\n",
              "  'O006F',\n",
              "  'O007',\n",
              "  'O008',\n",
              "  'O009',\n",
              "  'O010',\n",
              "  'O010A',\n",
              "  'O010B',\n",
              "  'O010C',\n",
              "  'O011',\n",
              "  'O012',\n",
              "  'O013',\n",
              "  'O014',\n",
              "  'O015',\n",
              "  'O016',\n",
              "  'O017',\n",
              "  'O018',\n",
              "  'O019',\n",
              "  'O019A',\n",
              "  'O020',\n",
              "  'O020A',\n",
              "  'O021',\n",
              "  'O022',\n",
              "  'O023',\n",
              "  'O024',\n",
              "  'O024A',\n",
              "  'O025',\n",
              "  'O025A',\n",
              "  'O026',\n",
              "  'O027',\n",
              "  'O028',\n",
              "  'O029',\n",
              "  'O029A',\n",
              "  'O030',\n",
              "  'O030A',\n",
              "  'O031',\n",
              "  'O032',\n",
              "  'O033',\n",
              "  'O033A',\n",
              "  'O034',\n",
              "  'O035',\n",
              "  'O036',\n",
              "  'O036A',\n",
              "  'O036B',\n",
              "  'O036C',\n",
              "  'O036D',\n",
              "  'O037',\n",
              "  'O038',\n",
              "  'O039',\n",
              "  'O040',\n",
              "  'O041',\n",
              "  'O042',\n",
              "  'O043',\n",
              "  'O044',\n",
              "  'O045',\n",
              "  'O046',\n",
              "  'O047',\n",
              "  'O048',\n",
              "  'O049',\n",
              "  'O050',\n",
              "  'O050A',\n",
              "  'O050B',\n",
              "  'O051',\n",
              "  'P001',\n",
              "  'P001A',\n",
              "  'P002',\n",
              "  'P003',\n",
              "  'P003A',\n",
              "  'P004',\n",
              "  'P005',\n",
              "  'P006',\n",
              "  'P007',\n",
              "  'P008',\n",
              "  'P009',\n",
              "  'P010',\n",
              "  'P011',\n",
              "  'Q001',\n",
              "  'Q002',\n",
              "  'Q003',\n",
              "  'Q004',\n",
              "  'Q005',\n",
              "  'Q006',\n",
              "  'Q007',\n",
              "  'R001',\n",
              "  'R002',\n",
              "  'R002A',\n",
              "  'R003',\n",
              "  'R003A',\n",
              "  'R003B',\n",
              "  'R004',\n",
              "  'R005',\n",
              "  'R006',\n",
              "  'R007',\n",
              "  'R008',\n",
              "  'R009',\n",
              "  'R010',\n",
              "  'R010A',\n",
              "  'R011',\n",
              "  'R012',\n",
              "  'R013',\n",
              "  'R014',\n",
              "  'R015',\n",
              "  'R016',\n",
              "  'R016A',\n",
              "  'R017',\n",
              "  'R018',\n",
              "  'R019',\n",
              "  'R020',\n",
              "  'R021',\n",
              "  'R022',\n",
              "  'R023',\n",
              "  'R024',\n",
              "  'R025',\n",
              "  'R026',\n",
              "  'R027',\n",
              "  'R028',\n",
              "  'R029',\n",
              "  'S001',\n",
              "  'S002',\n",
              "  'S002A',\n",
              "  'S003',\n",
              "  'S004',\n",
              "  'S005',\n",
              "  'S006',\n",
              "  'S006A',\n",
              "  'S007',\n",
              "  'S008',\n",
              "  'S009',\n",
              "  'S010',\n",
              "  'S011',\n",
              "  'S012',\n",
              "  'S013',\n",
              "  'S014',\n",
              "  'S014A',\n",
              "  'S014B',\n",
              "  'S015',\n",
              "  'S016',\n",
              "  'S017',\n",
              "  'S017A',\n",
              "  'S018',\n",
              "  'S019',\n",
              "  'S020',\n",
              "  'S021',\n",
              "  'S022',\n",
              "  'S023',\n",
              "  'S024',\n",
              "  'S025',\n",
              "  'S026',\n",
              "  'S026A',\n",
              "  'S026B',\n",
              "  'S027',\n",
              "  'S028',\n",
              "  'S029',\n",
              "  'S030',\n",
              "  'S031',\n",
              "  'S032',\n",
              "  'S033',\n",
              "  'S034',\n",
              "  'S035',\n",
              "  'S035A',\n",
              "  'S036',\n",
              "  'S037',\n",
              "  'S038',\n",
              "  'S039',\n",
              "  'S040',\n",
              "  'S041',\n",
              "  'S042',\n",
              "  'S043',\n",
              "  'S044',\n",
              "  'S045',\n",
              "  'S046',\n",
              "  'T001',\n",
              "  'T002',\n",
              "  'T003',\n",
              "  'T003A',\n",
              "  'T004',\n",
              "  'T005',\n",
              "  'T006',\n",
              "  'T007',\n",
              "  'T007A',\n",
              "  'T008',\n",
              "  'T008A',\n",
              "  'T009',\n",
              "  'T009A',\n",
              "  'T010',\n",
              "  'T011',\n",
              "  'T011A',\n",
              "  'T012',\n",
              "  'T013',\n",
              "  'T014',\n",
              "  'T015',\n",
              "  'T016',\n",
              "  'T016A',\n",
              "  'T017',\n",
              "  'T018',\n",
              "  'T019',\n",
              "  'T020',\n",
              "  'T021',\n",
              "  'T022',\n",
              "  'T023',\n",
              "  'T024',\n",
              "  'T025',\n",
              "  'T026',\n",
              "  'T027',\n",
              "  'T028',\n",
              "  'T029',\n",
              "  'T030',\n",
              "  'T031',\n",
              "  'T032',\n",
              "  'T032A',\n",
              "  'T033',\n",
              "  'T033A',\n",
              "  'T034',\n",
              "  'T035',\n",
              "  'T036',\n",
              "  'U001',\n",
              "  'U002',\n",
              "  'U003',\n",
              "  'U004',\n",
              "  'U005',\n",
              "  'U006',\n",
              "  'U006A',\n",
              "  'U006B',\n",
              "  'U007',\n",
              "  'U008',\n",
              "  'U009',\n",
              "  'U010',\n",
              "  'U011',\n",
              "  'U012',\n",
              "  'U013',\n",
              "  'U014',\n",
              "  'U015',\n",
              "  'U016',\n",
              "  'U017',\n",
              "  'U018',\n",
              "  'U019',\n",
              "  'U020',\n",
              "  'U021',\n",
              "  'U022',\n",
              "  'U023',\n",
              "  'U023A',\n",
              "  'U024',\n",
              "  'U025',\n",
              "  'U026',\n",
              "  'U027',\n",
              "  'U028',\n",
              "  'U029',\n",
              "  'U029A',\n",
              "  'U030',\n",
              "  'U031',\n",
              "  'U032',\n",
              "  'U032A',\n",
              "  'U033',\n",
              "  'U034',\n",
              "  'U035',\n",
              "  'U036',\n",
              "  'U037',\n",
              "  'U038',\n",
              "  'U039',\n",
              "  'U040',\n",
              "  'U041',\n",
              "  'U042',\n",
              "  'V001',\n",
              "  'V001A',\n",
              "  'V001B',\n",
              "  'V001C',\n",
              "  'V001D',\n",
              "  'V001E',\n",
              "  'V001F',\n",
              "  'V001G',\n",
              "  'V001H',\n",
              "  'V001I',\n",
              "  'V002',\n",
              "  'V002A',\n",
              "  'V003',\n",
              "  'V004',\n",
              "  'V005',\n",
              "  'V006',\n",
              "  'V007',\n",
              "  'V007A',\n",
              "  'V007B',\n",
              "  'V008',\n",
              "  'V009',\n",
              "  'V010',\n",
              "  'V011',\n",
              "  'V011A',\n",
              "  'V011B',\n",
              "  'V011C',\n",
              "  'V011D',\n",
              "  'V012',\n",
              "  'V012A',\n",
              "  'V012B',\n",
              "  'V013',\n",
              "  'V014',\n",
              "  'V015',\n",
              "  'V016',\n",
              "  'V017',\n",
              "  'V018',\n",
              "  'V019',\n",
              "  'V020',\n",
              "  'V020A',\n",
              "  'V020B',\n",
              "  'V020C',\n",
              "  'V020D',\n",
              "  'V020E',\n",
              "  'V020F',\n",
              "  'V020G',\n",
              "  'V020H',\n",
              "  'V020I',\n",
              "  'V020J',\n",
              "  'V020K',\n",
              "  'V020L',\n",
              "  'V021',\n",
              "  'V022',\n",
              "  'V023',\n",
              "  'V023A',\n",
              "  'V024',\n",
              "  'V025',\n",
              "  'V026',\n",
              "  'V027',\n",
              "  'V028',\n",
              "  'V028A',\n",
              "  'V029',\n",
              "  'V029A',\n",
              "  'V030',\n",
              "  'V030A',\n",
              "  'V031',\n",
              "  'V031A',\n",
              "  'V032',\n",
              "  'V033',\n",
              "  'V033A',\n",
              "  'V034',\n",
              "  'V035',\n",
              "  'V036',\n",
              "  'V037',\n",
              "  'V037A',\n",
              "  'V038',\n",
              "  'V039',\n",
              "  'V040',\n",
              "  'V040A',\n",
              "  'W001',\n",
              "  'W002',\n",
              "  'W003',\n",
              "  'W003A',\n",
              "  'W004',\n",
              "  'W005',\n",
              "  'W006',\n",
              "  'W007',\n",
              "  'W008',\n",
              "  'W009',\n",
              "  'W009A',\n",
              "  'W010',\n",
              "  'W010A',\n",
              "  'W011',\n",
              "  'W012',\n",
              "  'W013',\n",
              "  'W014',\n",
              "  'W014A',\n",
              "  'W015',\n",
              "  'W016',\n",
              "  'W017',\n",
              "  'W017A',\n",
              "  ...])"
            ]
          },
          "execution_count": 17,
          "metadata": {},
          "output_type": "execute_result"
        }
      ],
      "source": [
        "# Create training and testing DataLoaders as well as get a list of class names\n",
        "train_dataloader, test_dataloader, class_names = create_dataloaders(train_dir=train_dir,\n",
        "                                                                               test_dir=test_dir,\n",
        "                                                                               transform=manual_transforms, # resize, convert images to between 0 & 1 and normalize them\n",
        "                                                                               batch_size=32) # set mini-batch size to 32\n",
        "\n",
        "train_dataloader, test_dataloader, class_names"
      ]
    },
    {
      "cell_type": "code",
      "execution_count": 18,
      "metadata": {
        "colab": {
          "base_uri": "https://localhost:8080/"
        },
        "id": "DL6QemaMIisS",
        "outputId": "eb4be11e-533d-48cc-b283-501dadbea030"
      },
      "outputs": [
        {
          "data": {
            "text/plain": [
              "EfficientNet_B0_Weights.IMAGENET1K_V1"
            ]
          },
          "execution_count": 18,
          "metadata": {},
          "output_type": "execute_result"
        }
      ],
      "source": [
        "weights = torchvision.models.EfficientNet_B0_Weights.DEFAULT # .DEFAULT = best available weights from pretraining on ImageNet\n",
        "weights"
      ]
    },
    {
      "cell_type": "code",
      "execution_count": 19,
      "metadata": {
        "colab": {
          "base_uri": "https://localhost:8080/"
        },
        "id": "_6qmBqF1InRm",
        "outputId": "3754b405-9168-47a8-b07c-e4eb63d77eb9"
      },
      "outputs": [
        {
          "data": {
            "text/plain": [
              "ImageClassification(\n",
              "    crop_size=[224]\n",
              "    resize_size=[256]\n",
              "    mean=[0.485, 0.456, 0.406]\n",
              "    std=[0.229, 0.224, 0.225]\n",
              "    interpolation=InterpolationMode.BICUBIC\n",
              ")"
            ]
          },
          "execution_count": 19,
          "metadata": {},
          "output_type": "execute_result"
        }
      ],
      "source": [
        "# Get the transforms used to create our pretrained weights\n",
        "auto_transforms = weights.transforms()\n",
        "auto_transforms"
      ]
    },
    {
      "cell_type": "code",
      "execution_count": 20,
      "metadata": {
        "colab": {
          "base_uri": "https://localhost:8080/",
          "height": 87,
          "referenced_widgets": [
            "3b32d36730034137865d1cdbb6fdf554",
            "9b23a8ddefff458d89b81ac0bb0b50ff",
            "11b40e89bd81467cb9d30cd97034c245",
            "d3da4a65ad3b4ff990410eac4d650976",
            "d1f63e35f67d439bbfc1e7febd58b841",
            "0c1ebc7364b54cd69430238af2da78da",
            "fa9acfa0b5f7494bb39c4f4815af0e63",
            "8401b66ca0194d23bcf90a2432f5988f",
            "981e9ed41029420fabded3ce838dc6ff",
            "639e2006ff344a52aeb103d97b5f8162",
            "fdf61e22a93d47eda5e62592e0ceb5f4"
          ]
        },
        "id": "FXcxmrbeJDk_",
        "outputId": "480f8c92-342d-4e84-bdc9-780ec65e6638"
      },
      "outputs": [
        {
          "name": "stderr",
          "output_type": "stream",
          "text": [
            "Downloading: \"https://download.pytorch.org/models/efficientnet_b0_rwightman-3dd342df.pth\" to C:\\Users\\sigma/.cache\\torch\\hub\\checkpoints\\efficientnet_b0_rwightman-3dd342df.pth\n",
            "100%|██████████| 20.5M/20.5M [00:07<00:00, 2.75MB/s]\n"
          ]
        }
      ],
      "source": [
        "# OLD: Setup the model with pretrained weights and send it to the target device (this was prior to torchvision v0.13)\n",
        "# model = torchvision.models.efficientnet_b0(pretrained=True).to(device) # OLD method (with pretrained=True)\n",
        "\n",
        "# NEW: Setup the model with pretrained weights and send it to the target device (torchvision v0.13+)\n",
        "weights = torchvision.models.EfficientNet_B0_Weights.DEFAULT # .DEFAULT = best available weights\n",
        "model = torchvision.models.efficientnet_b0(weights=weights).to(device)\n",
        "\n",
        "#model # uncomment to output (it's very long)"
      ]
    },
    {
      "cell_type": "code",
      "execution_count": 21,
      "metadata": {
        "colab": {
          "base_uri": "https://localhost:8080/"
        },
        "id": "WM9tqz_tJLAe",
        "outputId": "7f336008-c187-4afb-c27e-ca6500d86eae"
      },
      "outputs": [
        {
          "data": {
            "text/plain": [
              "============================================================================================================================================\n",
              "Layer (type (var_name))                                      Input Shape          Output Shape         Param #              Trainable\n",
              "============================================================================================================================================\n",
              "EfficientNet (EfficientNet)                                  [32, 3, 224, 224]    [32, 1000]           --                   True\n",
              "├─Sequential (features)                                      [32, 3, 224, 224]    [32, 1280, 7, 7]     --                   True\n",
              "│    └─Conv2dNormActivation (0)                              [32, 3, 224, 224]    [32, 32, 112, 112]   --                   True\n",
              "│    │    └─Conv2d (0)                                       [32, 3, 224, 224]    [32, 32, 112, 112]   864                  True\n",
              "│    │    └─BatchNorm2d (1)                                  [32, 32, 112, 112]   [32, 32, 112, 112]   64                   True\n",
              "│    │    └─SiLU (2)                                         [32, 32, 112, 112]   [32, 32, 112, 112]   --                   --\n",
              "│    └─Sequential (1)                                        [32, 32, 112, 112]   [32, 16, 112, 112]   --                   True\n",
              "│    │    └─MBConv (0)                                       [32, 32, 112, 112]   [32, 16, 112, 112]   1,448                True\n",
              "│    └─Sequential (2)                                        [32, 16, 112, 112]   [32, 24, 56, 56]     --                   True\n",
              "│    │    └─MBConv (0)                                       [32, 16, 112, 112]   [32, 24, 56, 56]     6,004                True\n",
              "│    │    └─MBConv (1)                                       [32, 24, 56, 56]     [32, 24, 56, 56]     10,710               True\n",
              "│    └─Sequential (3)                                        [32, 24, 56, 56]     [32, 40, 28, 28]     --                   True\n",
              "│    │    └─MBConv (0)                                       [32, 24, 56, 56]     [32, 40, 28, 28]     15,350               True\n",
              "│    │    └─MBConv (1)                                       [32, 40, 28, 28]     [32, 40, 28, 28]     31,290               True\n",
              "│    └─Sequential (4)                                        [32, 40, 28, 28]     [32, 80, 14, 14]     --                   True\n",
              "│    │    └─MBConv (0)                                       [32, 40, 28, 28]     [32, 80, 14, 14]     37,130               True\n",
              "│    │    └─MBConv (1)                                       [32, 80, 14, 14]     [32, 80, 14, 14]     102,900              True\n",
              "│    │    └─MBConv (2)                                       [32, 80, 14, 14]     [32, 80, 14, 14]     102,900              True\n",
              "│    └─Sequential (5)                                        [32, 80, 14, 14]     [32, 112, 14, 14]    --                   True\n",
              "│    │    └─MBConv (0)                                       [32, 80, 14, 14]     [32, 112, 14, 14]    126,004              True\n",
              "│    │    └─MBConv (1)                                       [32, 112, 14, 14]    [32, 112, 14, 14]    208,572              True\n",
              "│    │    └─MBConv (2)                                       [32, 112, 14, 14]    [32, 112, 14, 14]    208,572              True\n",
              "│    └─Sequential (6)                                        [32, 112, 14, 14]    [32, 192, 7, 7]      --                   True\n",
              "│    │    └─MBConv (0)                                       [32, 112, 14, 14]    [32, 192, 7, 7]      262,492              True\n",
              "│    │    └─MBConv (1)                                       [32, 192, 7, 7]      [32, 192, 7, 7]      587,952              True\n",
              "│    │    └─MBConv (2)                                       [32, 192, 7, 7]      [32, 192, 7, 7]      587,952              True\n",
              "│    │    └─MBConv (3)                                       [32, 192, 7, 7]      [32, 192, 7, 7]      587,952              True\n",
              "│    └─Sequential (7)                                        [32, 192, 7, 7]      [32, 320, 7, 7]      --                   True\n",
              "│    │    └─MBConv (0)                                       [32, 192, 7, 7]      [32, 320, 7, 7]      717,232              True\n",
              "│    └─Conv2dNormActivation (8)                              [32, 320, 7, 7]      [32, 1280, 7, 7]     --                   True\n",
              "│    │    └─Conv2d (0)                                       [32, 320, 7, 7]      [32, 1280, 7, 7]     409,600              True\n",
              "│    │    └─BatchNorm2d (1)                                  [32, 1280, 7, 7]     [32, 1280, 7, 7]     2,560                True\n",
              "│    │    └─SiLU (2)                                         [32, 1280, 7, 7]     [32, 1280, 7, 7]     --                   --\n",
              "├─AdaptiveAvgPool2d (avgpool)                                [32, 1280, 7, 7]     [32, 1280, 1, 1]     --                   --\n",
              "├─Sequential (classifier)                                    [32, 1280]           [32, 1000]           --                   True\n",
              "│    └─Dropout (0)                                           [32, 1280]           [32, 1280]           --                   --\n",
              "│    └─Linear (1)                                            [32, 1280]           [32, 1000]           1,281,000            True\n",
              "============================================================================================================================================\n",
              "Total params: 5,288,548\n",
              "Trainable params: 5,288,548\n",
              "Non-trainable params: 0\n",
              "Total mult-adds (G): 12.35\n",
              "============================================================================================================================================\n",
              "Input size (MB): 19.27\n",
              "Forward/backward pass size (MB): 3452.35\n",
              "Params size (MB): 21.15\n",
              "Estimated Total Size (MB): 3492.77\n",
              "============================================================================================================================================"
            ]
          },
          "execution_count": 21,
          "metadata": {},
          "output_type": "execute_result"
        }
      ],
      "source": [
        "# Print a summary using torchinfo (uncomment for actual output)\n",
        "summary(model=model,\n",
        "        input_size=(32, 3, 224, 224), # make sure this is \"input_size\", not \"input_shape\"\n",
        "        # col_names=[\"input_size\"], # uncomment for smaller output\n",
        "        col_names=[\"input_size\", \"output_size\", \"num_params\", \"trainable\"],\n",
        "        col_width=20,\n",
        "        row_settings=[\"var_names\"]\n",
        ")"
      ]
    },
    {
      "cell_type": "code",
      "execution_count": 22,
      "metadata": {
        "id": "ubrngg2yJSlO"
      },
      "outputs": [],
      "source": [
        "# Freeze all base layers in the \"features\" section of the model (the feature extractor) by setting requires_grad=False\n",
        "for param in model.features.parameters():\n",
        "    param.requires_grad = False"
      ]
    },
    {
      "cell_type": "code",
      "execution_count": 23,
      "metadata": {
        "id": "0f4nBIl2JYe7"
      },
      "outputs": [],
      "source": [
        "# Set the manual seeds\n",
        "torch.manual_seed(42)\n",
        "torch.cuda.manual_seed(42)\n",
        "\n",
        "# Get the length of class_names (one output unit for each class)\n",
        "output_shape = len(class_names)\n",
        "\n",
        "# Recreate the classifier layer and seed it to the target device\n",
        "model.classifier = torch.nn.Sequential(\n",
        "    torch.nn.Dropout(p=0.2, inplace=True),\n",
        "    torch.nn.Linear(in_features=1280,\n",
        "                    out_features=output_shape, # same number of output units as our number of classes\n",
        "                    bias=True)).to(device)"
      ]
    },
    {
      "cell_type": "code",
      "execution_count": 24,
      "metadata": {
        "id": "S70Zj2Auxcp_"
      },
      "outputs": [],
      "source": [
        "#Taken from the finetune code starting from this cell\n",
        "\n",
        "def set_parameter_requires_grad(model, feature_extracting):\n",
        "    if feature_extracting:\n",
        "        for param in model.parameters():\n",
        "            param.requires_grad = False"
      ]
    },
    {
      "cell_type": "code",
      "execution_count": 25,
      "metadata": {
        "id": "JGToTqdHxkF1"
      },
      "outputs": [],
      "source": [
        "from torchvision import datasets, models, transforms\n",
        "\n",
        "def initialize_model(model_name, num_classes, feature_extract, use_pretrained=True):\n",
        "    # Initialize these variables which will be set in this if statement. Each of these\n",
        "    #   variables is model specific.\n",
        "    model_ft = None\n",
        "    input_size = 0\n",
        "\n",
        "    model_ft = models.efficientnet_b0(pretrained=use_pretrained)\n",
        "    set_parameter_requires_grad(model_ft, feature_extract)\n",
        "    num_ftrs = model_ft.fc.in_features\n",
        "    model_ft.fc = nn.Linear(num_ftrs, num_classes)\n",
        "    input_size = 224\n",
        "\n",
        "    return model_ft, input_size"
      ]
    },
    {
      "cell_type": "code",
      "execution_count": 26,
      "metadata": {
        "colab": {
          "base_uri": "https://localhost:8080/"
        },
        "id": "pljpXkuhJaOI",
        "outputId": "a106f3bd-9a3d-4745-c1f7-f6e4c5bf3a14"
      },
      "outputs": [
        {
          "data": {
            "text/plain": [
              "============================================================================================================================================\n",
              "Layer (type (var_name))                                      Input Shape          Output Shape         Param #              Trainable\n",
              "============================================================================================================================================\n",
              "EfficientNet (EfficientNet)                                  [32, 3, 224, 224]    [32, 1072]           --                   Partial\n",
              "├─Sequential (features)                                      [32, 3, 224, 224]    [32, 1280, 7, 7]     --                   False\n",
              "│    └─Conv2dNormActivation (0)                              [32, 3, 224, 224]    [32, 32, 112, 112]   --                   False\n",
              "│    │    └─Conv2d (0)                                       [32, 3, 224, 224]    [32, 32, 112, 112]   (864)                False\n",
              "│    │    └─BatchNorm2d (1)                                  [32, 32, 112, 112]   [32, 32, 112, 112]   (64)                 False\n",
              "│    │    └─SiLU (2)                                         [32, 32, 112, 112]   [32, 32, 112, 112]   --                   --\n",
              "│    └─Sequential (1)                                        [32, 32, 112, 112]   [32, 16, 112, 112]   --                   False\n",
              "│    │    └─MBConv (0)                                       [32, 32, 112, 112]   [32, 16, 112, 112]   (1,448)              False\n",
              "│    └─Sequential (2)                                        [32, 16, 112, 112]   [32, 24, 56, 56]     --                   False\n",
              "│    │    └─MBConv (0)                                       [32, 16, 112, 112]   [32, 24, 56, 56]     (6,004)              False\n",
              "│    │    └─MBConv (1)                                       [32, 24, 56, 56]     [32, 24, 56, 56]     (10,710)             False\n",
              "│    └─Sequential (3)                                        [32, 24, 56, 56]     [32, 40, 28, 28]     --                   False\n",
              "│    │    └─MBConv (0)                                       [32, 24, 56, 56]     [32, 40, 28, 28]     (15,350)             False\n",
              "│    │    └─MBConv (1)                                       [32, 40, 28, 28]     [32, 40, 28, 28]     (31,290)             False\n",
              "│    └─Sequential (4)                                        [32, 40, 28, 28]     [32, 80, 14, 14]     --                   False\n",
              "│    │    └─MBConv (0)                                       [32, 40, 28, 28]     [32, 80, 14, 14]     (37,130)             False\n",
              "│    │    └─MBConv (1)                                       [32, 80, 14, 14]     [32, 80, 14, 14]     (102,900)            False\n",
              "│    │    └─MBConv (2)                                       [32, 80, 14, 14]     [32, 80, 14, 14]     (102,900)            False\n",
              "│    └─Sequential (5)                                        [32, 80, 14, 14]     [32, 112, 14, 14]    --                   False\n",
              "│    │    └─MBConv (0)                                       [32, 80, 14, 14]     [32, 112, 14, 14]    (126,004)            False\n",
              "│    │    └─MBConv (1)                                       [32, 112, 14, 14]    [32, 112, 14, 14]    (208,572)            False\n",
              "│    │    └─MBConv (2)                                       [32, 112, 14, 14]    [32, 112, 14, 14]    (208,572)            False\n",
              "│    └─Sequential (6)                                        [32, 112, 14, 14]    [32, 192, 7, 7]      --                   False\n",
              "│    │    └─MBConv (0)                                       [32, 112, 14, 14]    [32, 192, 7, 7]      (262,492)            False\n",
              "│    │    └─MBConv (1)                                       [32, 192, 7, 7]      [32, 192, 7, 7]      (587,952)            False\n",
              "│    │    └─MBConv (2)                                       [32, 192, 7, 7]      [32, 192, 7, 7]      (587,952)            False\n",
              "│    │    └─MBConv (3)                                       [32, 192, 7, 7]      [32, 192, 7, 7]      (587,952)            False\n",
              "│    └─Sequential (7)                                        [32, 192, 7, 7]      [32, 320, 7, 7]      --                   False\n",
              "│    │    └─MBConv (0)                                       [32, 192, 7, 7]      [32, 320, 7, 7]      (717,232)            False\n",
              "│    └─Conv2dNormActivation (8)                              [32, 320, 7, 7]      [32, 1280, 7, 7]     --                   False\n",
              "│    │    └─Conv2d (0)                                       [32, 320, 7, 7]      [32, 1280, 7, 7]     (409,600)            False\n",
              "│    │    └─BatchNorm2d (1)                                  [32, 1280, 7, 7]     [32, 1280, 7, 7]     (2,560)              False\n",
              "│    │    └─SiLU (2)                                         [32, 1280, 7, 7]     [32, 1280, 7, 7]     --                   --\n",
              "├─AdaptiveAvgPool2d (avgpool)                                [32, 1280, 7, 7]     [32, 1280, 1, 1]     --                   --\n",
              "├─Sequential (classifier)                                    [32, 1280]           [32, 1072]           --                   True\n",
              "│    └─Dropout (0)                                           [32, 1280]           [32, 1280]           --                   --\n",
              "│    └─Linear (1)                                            [32, 1280]           [32, 1072]           1,373,232            True\n",
              "============================================================================================================================================\n",
              "Total params: 5,380,780\n",
              "Trainable params: 1,373,232\n",
              "Non-trainable params: 4,007,548\n",
              "Total mult-adds (G): 12.35\n",
              "============================================================================================================================================\n",
              "Input size (MB): 19.27\n",
              "Forward/backward pass size (MB): 3452.37\n",
              "Params size (MB): 21.52\n",
              "Estimated Total Size (MB): 3493.16\n",
              "============================================================================================================================================"
            ]
          },
          "execution_count": 26,
          "metadata": {},
          "output_type": "execute_result"
        }
      ],
      "source": [
        "# # Do a summary *after* freezing the features and changing the output classifier layer (uncomment for actual output)\n",
        "summary(model,\n",
        "        input_size=(32, 3, 224, 224), # make sure this is \"input_size\", not \"input_shape\" (batch_size, color_channels, height, width)\n",
        "        verbose=0,\n",
        "        col_names=[\"input_size\", \"output_size\", \"num_params\", \"trainable\"],\n",
        "        col_width=20,\n",
        "        row_settings=[\"var_names\"]\n",
        ")"
      ]
    },
    {
      "cell_type": "code",
      "execution_count": 27,
      "metadata": {
        "id": "I_gZ9g0JJjgq"
      },
      "outputs": [],
      "source": [
        "# Define loss and optimizer\n",
        "loss_fn = nn.CrossEntropyLoss()\n",
        "optimizer = torch.optim.Adam(model.parameters(), lr=0.001)\n",
        "\n"
      ]
    },
    {
      "cell_type": "code",
      "execution_count": 29,
      "metadata": {
        "colab": {
          "base_uri": "https://localhost:8080/",
          "height": 487,
          "referenced_widgets": [
            "9c51eb14fb9f43eab711741897558f5d",
            "a6edc6de1a3849f286c6c5a91eb11c91",
            "645837bc2ac144e68dbec2974e9e910e",
            "a776cd9c2f504686bda9b0e8b2c70070",
            "e8f21311c4fb4e288e60e3470f27fbf6",
            "50b1cf1ec4f8403ebd2e754cf875824b",
            "9810a2b1e69544f9a8c682b8fdb636b5",
            "cac2728851984d9b9b1b5043749d69f9",
            "0f9c7c63ce8b49a5ae088b2228342d10",
            "bd8d1e9cde044defac8cc120848d366f",
            "20d8d488678948509d34bf863f15a724"
          ]
        },
        "id": "jb8KYlH1JlTW",
        "outputId": "f54c7592-653b-42b1-c1e9-2dac7bb9f1a3"
      },
      "outputs": [
        {
          "name": "stderr",
          "output_type": "stream",
          "text": [
            "  2%|▏         | 1/50 [49:01<40:01:58, 2941.20s/it]"
          ]
        },
        {
          "name": "stdout",
          "output_type": "stream",
          "text": [
            "Epoch: 1 | \n",
            "train_loss: 4.4906 | train_acc: 0.2570 | precision: 0.0000 | recall: 0.0000 | f1 score: 0.0000 | test_loss: 2.2206 | test_acc: 0.5904\n"
          ]
        },
        {
          "name": "stderr",
          "output_type": "stream",
          "text": [
            "  4%|▍         | 2/50 [1:38:13<39:18:15, 2947.82s/it]"
          ]
        },
        {
          "name": "stdout",
          "output_type": "stream",
          "text": [
            "Epoch: 2 | \n",
            "train_loss: 2.1517 | train_acc: 0.5977 | precision: 0.0001 | recall: 0.0001 | f1 score: 0.0002 | test_loss: 1.4834 | test_acc: 0.6760\n"
          ]
        },
        {
          "name": "stderr",
          "output_type": "stream",
          "text": [
            "  6%|▌         | 3/50 [2:27:23<38:29:54, 2948.81s/it]"
          ]
        },
        {
          "name": "stdout",
          "output_type": "stream",
          "text": [
            "Epoch: 3 | \n",
            "train_loss: 1.5244 | train_acc: 0.6984 | precision: 0.0003 | recall: 0.0003 | f1 score: 0.0005 | test_loss: 1.1430 | test_acc: 0.7262\n"
          ]
        },
        {
          "name": "stderr",
          "output_type": "stream",
          "text": [
            "  8%|▊         | 4/50 [3:16:43<37:43:58, 2953.00s/it]"
          ]
        },
        {
          "name": "stdout",
          "output_type": "stream",
          "text": [
            "Epoch: 4 | \n",
            "train_loss: 1.2140 | train_acc: 0.7526 | precision: 0.0000 | recall: 0.0000 | f1 score: 0.0000 | test_loss: 1.0401 | test_acc: 0.7462\n"
          ]
        },
        {
          "name": "stderr",
          "output_type": "stream",
          "text": [
            " 10%|█         | 5/50 [4:05:54<36:54:24, 2952.54s/it]"
          ]
        },
        {
          "name": "stdout",
          "output_type": "stream",
          "text": [
            "Epoch: 5 | \n",
            "train_loss: 1.0264 | train_acc: 0.7831 | precision: 0.0003 | recall: 0.0003 | f1 score: 0.0005 | test_loss: 0.9454 | test_acc: 0.7542\n"
          ]
        },
        {
          "name": "stderr",
          "output_type": "stream",
          "text": [
            " 12%|█▏        | 6/50 [4:55:10<36:06:05, 2953.75s/it]"
          ]
        },
        {
          "name": "stdout",
          "output_type": "stream",
          "text": [
            "Epoch: 6 | \n",
            "train_loss: 0.8927 | train_acc: 0.8112 | precision: 0.0006 | recall: 0.0006 | f1 score: 0.0007 | test_loss: 0.8832 | test_acc: 0.7679\n"
          ]
        },
        {
          "name": "stderr",
          "output_type": "stream",
          "text": [
            " 14%|█▍        | 7/50 [5:44:24<35:16:42, 2953.56s/it]"
          ]
        },
        {
          "name": "stdout",
          "output_type": "stream",
          "text": [
            "Epoch: 7 | \n",
            "train_loss: 0.8316 | train_acc: 0.8215 | precision: 0.0000 | recall: 0.0000 | f1 score: 0.0000 | test_loss: 0.8408 | test_acc: 0.7723\n"
          ]
        },
        {
          "name": "stderr",
          "output_type": "stream",
          "text": [
            " 16%|█▌        | 8/50 [6:33:42<34:28:37, 2955.17s/it]"
          ]
        },
        {
          "name": "stdout",
          "output_type": "stream",
          "text": [
            "Epoch: 8 | \n",
            "train_loss: 0.7368 | train_acc: 0.8386 | precision: 0.0003 | recall: 0.0003 | f1 score: 0.0005 | test_loss: 0.8544 | test_acc: 0.7681\n"
          ]
        },
        {
          "name": "stderr",
          "output_type": "stream",
          "text": [
            " 18%|█▊        | 9/50 [7:22:58<33:39:25, 2955.25s/it]"
          ]
        },
        {
          "name": "stdout",
          "output_type": "stream",
          "text": [
            "Epoch: 9 | \n",
            "train_loss: 0.6834 | train_acc: 0.8470 | precision: 0.0003 | recall: 0.0003 | f1 score: 0.0005 | test_loss: 0.8010 | test_acc: 0.7790\n"
          ]
        },
        {
          "name": "stderr",
          "output_type": "stream",
          "text": [
            " 20%|██        | 10/50 [8:19:21<34:18:11, 3087.30s/it]"
          ]
        },
        {
          "name": "stdout",
          "output_type": "stream",
          "text": [
            "Epoch: 10 | \n",
            "train_loss: 0.6549 | train_acc: 0.8526 | precision: 0.0001 | recall: 0.0001 | f1 score: 0.0002 | test_loss: 0.7868 | test_acc: 0.7847\n"
          ]
        },
        {
          "name": "stderr",
          "output_type": "stream",
          "text": [
            " 22%|██▏       | 11/50 [9:20:06<35:17:41, 3257.98s/it]"
          ]
        },
        {
          "name": "stdout",
          "output_type": "stream",
          "text": [
            "Epoch: 11 | \n",
            "train_loss: 0.6201 | train_acc: 0.8587 | precision: 0.0001 | recall: 0.0001 | f1 score: 0.0002 | test_loss: 0.7856 | test_acc: 0.7834\n"
          ]
        },
        {
          "name": "stderr",
          "output_type": "stream",
          "text": [
            " 24%|██▍       | 12/50 [10:14:20<34:22:40, 3256.87s/it]"
          ]
        },
        {
          "name": "stdout",
          "output_type": "stream",
          "text": [
            "Epoch: 12 | \n",
            "train_loss: 0.5967 | train_acc: 0.8637 | precision: 0.0003 | recall: 0.0003 | f1 score: 0.0005 | test_loss: 0.7301 | test_acc: 0.7955\n"
          ]
        },
        {
          "name": "stderr",
          "output_type": "stream",
          "text": [
            " 26%|██▌       | 13/50 [11:03:38<32:32:39, 3166.47s/it]"
          ]
        },
        {
          "name": "stdout",
          "output_type": "stream",
          "text": [
            "Epoch: 13 | \n",
            "train_loss: 0.5632 | train_acc: 0.8705 | precision: 0.0003 | recall: 0.0003 | f1 score: 0.0005 | test_loss: 0.7737 | test_acc: 0.7835\n"
          ]
        },
        {
          "name": "stderr",
          "output_type": "stream",
          "text": [
            " 28%|██▊       | 14/50 [12:09:20<34:00:18, 3400.51s/it]"
          ]
        },
        {
          "name": "stdout",
          "output_type": "stream",
          "text": [
            "Epoch: 14 | \n",
            "train_loss: 0.5481 | train_acc: 0.8723 | precision: 0.0003 | recall: 0.0003 | f1 score: 0.0005 | test_loss: 0.7434 | test_acc: 0.7942\n"
          ]
        },
        {
          "name": "stderr",
          "output_type": "stream",
          "text": [
            " 30%|███       | 15/50 [13:18:01<35:10:17, 3617.65s/it]"
          ]
        },
        {
          "name": "stdout",
          "output_type": "stream",
          "text": [
            "Epoch: 15 | \n",
            "train_loss: 0.5278 | train_acc: 0.8786 | precision: 0.0006 | recall: 0.0006 | f1 score: 0.0007 | test_loss: 0.7296 | test_acc: 0.7952\n"
          ]
        },
        {
          "name": "stderr",
          "output_type": "stream",
          "text": [
            " 32%|███▏      | 16/50 [14:08:19<32:27:43, 3437.17s/it]"
          ]
        },
        {
          "name": "stdout",
          "output_type": "stream",
          "text": [
            "Epoch: 16 | \n",
            "train_loss: 0.5057 | train_acc: 0.8799 | precision: 0.0006 | recall: 0.0006 | f1 score: 0.0007 | test_loss: 0.6989 | test_acc: 0.8055\n"
          ]
        },
        {
          "name": "stderr",
          "output_type": "stream",
          "text": [
            " 34%|███▍      | 17/50 [14:58:35<30:20:54, 3310.74s/it]"
          ]
        },
        {
          "name": "stdout",
          "output_type": "stream",
          "text": [
            "Epoch: 17 | \n",
            "train_loss: 0.4964 | train_acc: 0.8836 | precision: 0.0006 | recall: 0.0006 | f1 score: 0.0007 | test_loss: 0.7052 | test_acc: 0.8030\n"
          ]
        },
        {
          "name": "stderr",
          "output_type": "stream",
          "text": [
            " 36%|███▌      | 18/50 [15:49:42<28:46:34, 3237.31s/it]"
          ]
        },
        {
          "name": "stdout",
          "output_type": "stream",
          "text": [
            "Epoch: 18 | \n",
            "train_loss: 0.4797 | train_acc: 0.8877 | precision: 0.0010 | recall: 0.0010 | f1 score: 0.0010 | test_loss: 0.7379 | test_acc: 0.7951\n"
          ]
        },
        {
          "name": "stderr",
          "output_type": "stream",
          "text": [
            " 38%|███▊      | 19/50 [16:40:47<27:25:58, 3185.77s/it]"
          ]
        },
        {
          "name": "stdout",
          "output_type": "stream",
          "text": [
            "Epoch: 19 | \n",
            "train_loss: 0.4839 | train_acc: 0.8852 | precision: 0.0000 | recall: 0.0000 | f1 score: 0.0000 | test_loss: 0.6946 | test_acc: 0.8033\n"
          ]
        },
        {
          "name": "stderr",
          "output_type": "stream",
          "text": [
            " 40%|████      | 20/50 [17:31:47<26:13:58, 3147.96s/it]"
          ]
        },
        {
          "name": "stdout",
          "output_type": "stream",
          "text": [
            "Epoch: 20 | \n",
            "train_loss: 0.4680 | train_acc: 0.8880 | precision: 0.0006 | recall: 0.0006 | f1 score: 0.0007 | test_loss: 0.7376 | test_acc: 0.7942\n"
          ]
        },
        {
          "name": "stderr",
          "output_type": "stream",
          "text": [
            " 42%|████▏     | 21/50 [18:22:48<25:08:56, 3121.93s/it]"
          ]
        },
        {
          "name": "stdout",
          "output_type": "stream",
          "text": [
            "Epoch: 21 | \n",
            "train_loss: 0.4530 | train_acc: 0.8921 | precision: 0.0006 | recall: 0.0006 | f1 score: 0.0007 | test_loss: 0.6951 | test_acc: 0.8065\n"
          ]
        },
        {
          "name": "stderr",
          "output_type": "stream",
          "text": [
            " 44%|████▍     | 22/50 [19:13:52<24:08:43, 3104.41s/it]"
          ]
        },
        {
          "name": "stdout",
          "output_type": "stream",
          "text": [
            "Epoch: 22 | \n",
            "train_loss: 0.4609 | train_acc: 0.8894 | precision: 0.0003 | recall: 0.0003 | f1 score: 0.0005 | test_loss: 0.6882 | test_acc: 0.8064\n"
          ]
        },
        {
          "name": "stderr",
          "output_type": "stream",
          "text": [
            " 46%|████▌     | 23/50 [20:05:04<23:12:38, 3094.76s/it]"
          ]
        },
        {
          "name": "stdout",
          "output_type": "stream",
          "text": [
            "Epoch: 23 | \n",
            "train_loss: 0.4394 | train_acc: 0.8952 | precision: 0.0003 | recall: 0.0003 | f1 score: 0.0005 | test_loss: 0.7117 | test_acc: 0.8028\n"
          ]
        },
        {
          "name": "stderr",
          "output_type": "stream",
          "text": [
            " 48%|████▊     | 24/50 [20:56:09<22:17:10, 3085.77s/it]"
          ]
        },
        {
          "name": "stdout",
          "output_type": "stream",
          "text": [
            "Epoch: 24 | \n",
            "train_loss: 0.4327 | train_acc: 0.8970 | precision: 0.0003 | recall: 0.0003 | f1 score: 0.0005 | test_loss: 0.7027 | test_acc: 0.8037\n"
          ]
        },
        {
          "name": "stderr",
          "output_type": "stream",
          "text": [
            " 50%|█████     | 25/50 [21:47:15<21:23:15, 3079.83s/it]"
          ]
        },
        {
          "name": "stdout",
          "output_type": "stream",
          "text": [
            "Epoch: 25 | \n",
            "train_loss: 0.4410 | train_acc: 0.8948 | precision: 0.0003 | recall: 0.0003 | f1 score: 0.0005 | test_loss: 0.7034 | test_acc: 0.8070\n"
          ]
        },
        {
          "name": "stderr",
          "output_type": "stream",
          "text": [
            " 52%|█████▏    | 26/50 [22:38:20<20:30:07, 3075.33s/it]"
          ]
        },
        {
          "name": "stdout",
          "output_type": "stream",
          "text": [
            "Epoch: 26 | \n",
            "train_loss: 0.4293 | train_acc: 0.8962 | precision: 0.0003 | recall: 0.0003 | f1 score: 0.0005 | test_loss: 0.7091 | test_acc: 0.8027\n"
          ]
        },
        {
          "name": "stderr",
          "output_type": "stream",
          "text": [
            " 54%|█████▍    | 27/50 [23:29:25<19:37:43, 3072.31s/it]"
          ]
        },
        {
          "name": "stdout",
          "output_type": "stream",
          "text": [
            "Epoch: 27 | \n",
            "train_loss: 0.4282 | train_acc: 0.8961 | precision: 0.0001 | recall: 0.0001 | f1 score: 0.0002 | test_loss: 0.6855 | test_acc: 0.8105\n"
          ]
        },
        {
          "name": "stderr",
          "output_type": "stream",
          "text": [
            " 56%|█████▌    | 28/50 [24:18:48<18:34:28, 3039.48s/it]"
          ]
        },
        {
          "name": "stdout",
          "output_type": "stream",
          "text": [
            "Epoch: 28 | \n",
            "train_loss: 0.4199 | train_acc: 0.8984 | precision: 0.0001 | recall: 0.0001 | f1 score: 0.0002 | test_loss: 0.7328 | test_acc: 0.8005\n"
          ]
        },
        {
          "name": "stderr",
          "output_type": "stream",
          "text": [
            " 58%|█████▊    | 29/50 [25:06:28<17:24:58, 2985.64s/it]"
          ]
        },
        {
          "name": "stdout",
          "output_type": "stream",
          "text": [
            "Epoch: 29 | \n",
            "train_loss: 0.4193 | train_acc: 0.8996 | precision: 0.0001 | recall: 0.0001 | f1 score: 0.0002 | test_loss: 0.7007 | test_acc: 0.8076\n"
          ]
        },
        {
          "name": "stderr",
          "output_type": "stream",
          "text": [
            " 60%|██████    | 30/50 [25:54:06<16:22:24, 2947.21s/it]"
          ]
        },
        {
          "name": "stdout",
          "output_type": "stream",
          "text": [
            "Epoch: 30 | \n",
            "train_loss: 0.4035 | train_acc: 0.9033 | precision: 0.0003 | recall: 0.0003 | f1 score: 0.0005 | test_loss: 0.6768 | test_acc: 0.8113\n"
          ]
        },
        {
          "name": "stderr",
          "output_type": "stream",
          "text": [
            " 62%|██████▏   | 31/50 [26:41:42<15:24:40, 2920.04s/it]"
          ]
        },
        {
          "name": "stdout",
          "output_type": "stream",
          "text": [
            "Epoch: 31 | \n",
            "train_loss: 0.4166 | train_acc: 0.9004 | precision: 0.0010 | recall: 0.0010 | f1 score: 0.0010 | test_loss: 0.7223 | test_acc: 0.8062\n"
          ]
        },
        {
          "name": "stderr",
          "output_type": "stream",
          "text": [
            " 64%|██████▍   | 32/50 [27:29:23<14:30:42, 2902.35s/it]"
          ]
        },
        {
          "name": "stdout",
          "output_type": "stream",
          "text": [
            "Epoch: 32 | \n",
            "train_loss: 0.3874 | train_acc: 0.9053 | precision: 0.0001 | recall: 0.0001 | f1 score: 0.0002 | test_loss: 0.7209 | test_acc: 0.8067\n"
          ]
        },
        {
          "name": "stderr",
          "output_type": "stream",
          "text": [
            " 66%|██████▌   | 33/50 [28:17:14<13:39:38, 2892.83s/it]"
          ]
        },
        {
          "name": "stdout",
          "output_type": "stream",
          "text": [
            "Epoch: 33 | \n",
            "train_loss: 0.3887 | train_acc: 0.9039 | precision: 0.0001 | recall: 0.0001 | f1 score: 0.0002 | test_loss: 0.7063 | test_acc: 0.8081\n"
          ]
        },
        {
          "name": "stderr",
          "output_type": "stream",
          "text": [
            " 68%|██████▊   | 34/50 [29:04:55<12:48:51, 2883.20s/it]"
          ]
        },
        {
          "name": "stdout",
          "output_type": "stream",
          "text": [
            "Epoch: 34 | \n",
            "train_loss: 0.3987 | train_acc: 0.9040 | precision: 0.0003 | recall: 0.0003 | f1 score: 0.0005 | test_loss: 0.6999 | test_acc: 0.8111\n"
          ]
        },
        {
          "name": "stderr",
          "output_type": "stream",
          "text": [
            " 70%|███████   | 35/50 [29:52:40<11:59:25, 2877.70s/it]"
          ]
        },
        {
          "name": "stdout",
          "output_type": "stream",
          "text": [
            "Epoch: 35 | \n",
            "train_loss: 0.3862 | train_acc: 0.9061 | precision: 0.0003 | recall: 0.0003 | f1 score: 0.0005 | test_loss: 0.7190 | test_acc: 0.8067\n"
          ]
        },
        {
          "name": "stderr",
          "output_type": "stream",
          "text": [
            " 72%|███████▏  | 36/50 [30:40:25<11:10:36, 2874.02s/it]"
          ]
        },
        {
          "name": "stdout",
          "output_type": "stream",
          "text": [
            "Epoch: 36 | \n",
            "train_loss: 0.3830 | train_acc: 0.9056 | precision: 0.0006 | recall: 0.0006 | f1 score: 0.0007 | test_loss: 0.6617 | test_acc: 0.8201\n"
          ]
        },
        {
          "name": "stderr",
          "output_type": "stream",
          "text": [
            " 74%|███████▍  | 37/50 [31:28:21<10:22:49, 2874.59s/it]"
          ]
        },
        {
          "name": "stdout",
          "output_type": "stream",
          "text": [
            "Epoch: 37 | \n",
            "train_loss: 0.3820 | train_acc: 0.9064 | precision: 0.0003 | recall: 0.0003 | f1 score: 0.0005 | test_loss: 0.6935 | test_acc: 0.8106\n"
          ]
        },
        {
          "name": "stderr",
          "output_type": "stream",
          "text": [
            " 76%|███████▌  | 38/50 [32:16:04<9:34:13, 2871.12s/it] "
          ]
        },
        {
          "name": "stdout",
          "output_type": "stream",
          "text": [
            "Epoch: 38 | \n",
            "train_loss: 0.3804 | train_acc: 0.9076 | precision: 0.0001 | recall: 0.0001 | f1 score: 0.0002 | test_loss: 0.7010 | test_acc: 0.8118\n"
          ]
        },
        {
          "name": "stderr",
          "output_type": "stream",
          "text": [
            " 78%|███████▊  | 39/50 [33:08:09<9:00:19, 2947.22s/it]"
          ]
        },
        {
          "name": "stdout",
          "output_type": "stream",
          "text": [
            "Epoch: 39 | \n",
            "train_loss: 0.3937 | train_acc: 0.9032 | precision: 0.0000 | recall: 0.0000 | f1 score: 0.0000 | test_loss: 0.7152 | test_acc: 0.8087\n"
          ]
        },
        {
          "name": "stderr",
          "output_type": "stream",
          "text": [
            " 80%|████████  | 40/50 [34:01:20<8:23:25, 3020.55s/it]"
          ]
        },
        {
          "name": "stdout",
          "output_type": "stream",
          "text": [
            "Epoch: 40 | \n",
            "train_loss: 0.3876 | train_acc: 0.9071 | precision: 0.0000 | recall: 0.0000 | f1 score: 0.0000 | test_loss: 0.7045 | test_acc: 0.8085\n"
          ]
        },
        {
          "name": "stderr",
          "output_type": "stream",
          "text": [
            " 82%|████████▏ | 41/50 [34:55:59<7:44:41, 3097.96s/it]"
          ]
        },
        {
          "name": "stdout",
          "output_type": "stream",
          "text": [
            "Epoch: 41 | \n",
            "train_loss: 0.3826 | train_acc: 0.9070 | precision: 0.0006 | recall: 0.0006 | f1 score: 0.0007 | test_loss: 0.6841 | test_acc: 0.8142\n"
          ]
        },
        {
          "name": "stderr",
          "output_type": "stream",
          "text": [
            " 84%|████████▍ | 42/50 [35:51:33<7:02:30, 3168.83s/it]"
          ]
        },
        {
          "name": "stdout",
          "output_type": "stream",
          "text": [
            "Epoch: 42 | \n",
            "train_loss: 0.3849 | train_acc: 0.9072 | precision: 0.0006 | recall: 0.0006 | f1 score: 0.0007 | test_loss: 0.7267 | test_acc: 0.8083\n"
          ]
        },
        {
          "name": "stderr",
          "output_type": "stream",
          "text": [
            " 86%|████████▌ | 43/50 [36:47:44<6:16:45, 3229.32s/it]"
          ]
        },
        {
          "name": "stdout",
          "output_type": "stream",
          "text": [
            "Epoch: 43 | \n",
            "train_loss: 0.3734 | train_acc: 0.9082 | precision: 0.0003 | recall: 0.0003 | f1 score: 0.0005 | test_loss: 0.6654 | test_acc: 0.8208\n"
          ]
        },
        {
          "name": "stderr",
          "output_type": "stream",
          "text": [
            " 88%|████████▊ | 44/50 [37:48:17<5:35:03, 3350.59s/it]"
          ]
        },
        {
          "name": "stdout",
          "output_type": "stream",
          "text": [
            "Epoch: 44 | \n",
            "train_loss: 0.3599 | train_acc: 0.9105 | precision: 0.0003 | recall: 0.0003 | f1 score: 0.0005 | test_loss: 0.7206 | test_acc: 0.8112\n"
          ]
        },
        {
          "name": "stderr",
          "output_type": "stream",
          "text": [
            " 90%|█████████ | 45/50 [38:42:16<4:36:25, 3317.16s/it]"
          ]
        },
        {
          "name": "stdout",
          "output_type": "stream",
          "text": [
            "Epoch: 45 | \n",
            "train_loss: 0.3685 | train_acc: 0.9102 | precision: 0.0003 | recall: 0.0003 | f1 score: 0.0005 | test_loss: 0.6796 | test_acc: 0.8183\n"
          ]
        },
        {
          "name": "stderr",
          "output_type": "stream",
          "text": [
            " 92%|█████████▏| 46/50 [39:32:48<3:35:25, 3231.41s/it]"
          ]
        },
        {
          "name": "stdout",
          "output_type": "stream",
          "text": [
            "Epoch: 46 | \n",
            "train_loss: 0.3740 | train_acc: 0.9111 | precision: 0.0001 | recall: 0.0001 | f1 score: 0.0002 | test_loss: 0.7213 | test_acc: 0.8095\n"
          ]
        },
        {
          "name": "stderr",
          "output_type": "stream",
          "text": [
            " 94%|█████████▍| 47/50 [40:21:08<2:36:36, 3132.09s/it]"
          ]
        },
        {
          "name": "stdout",
          "output_type": "stream",
          "text": [
            "Epoch: 47 | \n",
            "train_loss: 0.3656 | train_acc: 0.9099 | precision: 0.0003 | recall: 0.0003 | f1 score: 0.0005 | test_loss: 0.7201 | test_acc: 0.8122\n"
          ]
        },
        {
          "name": "stderr",
          "output_type": "stream",
          "text": [
            " 96%|█████████▌| 48/50 [41:09:58<1:42:23, 3071.58s/it]"
          ]
        },
        {
          "name": "stdout",
          "output_type": "stream",
          "text": [
            "Epoch: 48 | \n",
            "train_loss: 0.3652 | train_acc: 0.9100 | precision: 0.0001 | recall: 0.0001 | f1 score: 0.0002 | test_loss: 0.7027 | test_acc: 0.8126\n"
          ]
        },
        {
          "name": "stderr",
          "output_type": "stream",
          "text": [
            " 98%|█████████▊| 49/50 [42:00:46<51:04, 3064.44s/it]  "
          ]
        },
        {
          "name": "stdout",
          "output_type": "stream",
          "text": [
            "Epoch: 49 | \n",
            "train_loss: 0.3664 | train_acc: 0.9112 | precision: 0.0003 | recall: 0.0003 | f1 score: 0.0005 | test_loss: 0.6817 | test_acc: 0.8175\n"
          ]
        },
        {
          "name": "stderr",
          "output_type": "stream",
          "text": [
            "100%|██████████| 50/50 [42:51:31<00:00, 3085.83s/it]"
          ]
        },
        {
          "name": "stdout",
          "output_type": "stream",
          "text": [
            "Epoch: 50 | \n",
            "train_loss: 0.3668 | train_acc: 0.9093 | precision: 0.0000 | recall: 0.0000 | f1 score: 0.0000 | test_loss: 0.7525 | test_acc: 0.8067\n",
            "Total time taken is 385848m 389732s\n"
          ]
        },
        {
          "name": "stderr",
          "output_type": "stream",
          "text": [
            "\n"
          ]
        }
      ],
      "source": [
        "# from going_modular.going_modular import data_setup, engine\n",
        "import warnings\n",
        "warnings.filterwarnings('ignore')\n",
        "# Set the random seeds\n",
        "torch.manual_seed(42)\n",
        "torch.cuda.manual_seed(42)\n",
        "\n",
        "# Start the timer\n",
        "from timeit import default_timer as timer\n",
        "start_time = timer()\n",
        "\n",
        "# Setup training and save the results\n",
        "results = train(model=model,\n",
        "                       train_dataloader=train_dataloader,\n",
        "                       test_dataloader=test_dataloader,\n",
        "                       optimizer=optimizer,\n",
        "                       loss_fn=loss_fn,\n",
        "                       epochs=50,\n",
        "                       device=device)\n",
        "\n",
        "# End the timer and print out how long it took\n",
        "end_time = timer()\n",
        "# print(f\"[INFO] Total training time: {end_time-start_time:.3f} seconds\")\n",
        "print('Total time taken is {:.0f}m {:.0f}s'.format(end_time-start_time // 60, end_time-start_time % 60))"
      ]
    },
    {
      "cell_type": "code",
      "execution_count": 32,
      "metadata": {
        "id": "w95cWUXCRqgW"
      },
      "outputs": [
        {
          "name": "stdout",
          "output_type": "stream",
          "text": [
            "y:  tensor([1023,  852,  474,  265])\n",
            "y_pred:  tensor([121, 852, 474, 839])\n"
          ]
        }
      ],
      "source": [
        "# --------------------------------------------------------- Coode inside train_step function ---------------------------------------------------------\n",
        "\n",
        "model.train()\n",
        "\n",
        "# Setup train loss and train accuracy values\n",
        "train_loss, train_acc = 0, 0\n",
        "\n",
        "y = []\n",
        "y_pred = []\n",
        "\n",
        "# Loop through data loader data batches\n",
        "for batch, (X, y) in enumerate(train_dataloader):\n",
        "    # Send data to target device\n",
        "    X, y = X.to(device), y.to(device)\n",
        "\n",
        "    # 1. Forward pass\n",
        "    y_pred = model(X)\n",
        "\n",
        "    # 2. Calculate  and accumulate loss\n",
        "    loss = loss_fn(y_pred, y)\n",
        "    train_loss += loss.item()\n",
        "\n",
        "    # 3. Optimizer zero grad\n",
        "    optimizer.zero_grad()\n",
        "\n",
        "    # 4. Loss backward\n",
        "    loss.backward()\n",
        "\n",
        "    # 5. Optimizer step\n",
        "    optimizer.step()\n",
        "\n",
        "    # Calculate and accumulate accuracy metric across all batches\n",
        "    y_pred_class = torch.argmax(torch.softmax(y_pred, dim=1), dim=1)\n",
        "    train_acc += (y_pred_class == y).sum().item()/len(y_pred)\n",
        "\n",
        "# Adjust metrics to get average loss and accuracy per batch\n",
        "train_loss = train_loss / len(train_dataloader)\n",
        "train_acc = train_acc / len(train_dataloader)\n",
        "\n",
        "print(\"y: \",y)\n",
        "print(\"y_pred: \", y_pred_class)"
      ]
    },
    {
      "cell_type": "code",
      "execution_count": 38,
      "metadata": {
        "id": "2KPh8du4Rt-b"
      },
      "outputs": [
        {
          "ename": "ValueError",
          "evalue": "The number of FixedLocator locations (6), usually from a call to set_ticks, does not match the number of ticklabels (2).",
          "output_type": "error",
          "traceback": [
            "\u001b[1;31m---------------------------------------------------------------------------\u001b[0m",
            "\u001b[1;31mValueError\u001b[0m                                Traceback (most recent call last)",
            "Cell \u001b[1;32mIn[38], line 3\u001b[0m\n\u001b[0;32m      1\u001b[0m confusion_matrix \u001b[39m=\u001b[39m metrics\u001b[39m.\u001b[39mconfusion_matrix(y, y_pred_class)\n\u001b[0;32m      2\u001b[0m cm_display \u001b[39m=\u001b[39m metrics\u001b[39m.\u001b[39mConfusionMatrixDisplay(confusion_matrix \u001b[39m=\u001b[39m confusion_matrix, display_labels \u001b[39m=\u001b[39m [\u001b[39mFalse\u001b[39;00m, \u001b[39mTrue\u001b[39;00m])\n\u001b[1;32m----> 3\u001b[0m cm_display\u001b[39m.\u001b[39;49mplot()\n\u001b[0;32m      4\u001b[0m plt\u001b[39m.\u001b[39mshow()\n",
            "File \u001b[1;32m~\\AppData\\Local\\Packages\\PythonSoftwareFoundation.Python.3.10_qbz5n2kfra8p0\\LocalCache\\local-packages\\Python310\\site-packages\\sklearn\\metrics\\_plot\\confusion_matrix.py:181\u001b[0m, in \u001b[0;36mConfusionMatrixDisplay.plot\u001b[1;34m(self, include_values, cmap, xticks_rotation, values_format, ax, colorbar, im_kw, text_kw)\u001b[0m\n\u001b[0;32m    179\u001b[0m \u001b[39mif\u001b[39;00m colorbar:\n\u001b[0;32m    180\u001b[0m     fig\u001b[39m.\u001b[39mcolorbar(\u001b[39mself\u001b[39m\u001b[39m.\u001b[39mim_, ax\u001b[39m=\u001b[39max)\n\u001b[1;32m--> 181\u001b[0m ax\u001b[39m.\u001b[39;49mset(\n\u001b[0;32m    182\u001b[0m     xticks\u001b[39m=\u001b[39;49mnp\u001b[39m.\u001b[39;49marange(n_classes),\n\u001b[0;32m    183\u001b[0m     yticks\u001b[39m=\u001b[39;49mnp\u001b[39m.\u001b[39;49marange(n_classes),\n\u001b[0;32m    184\u001b[0m     xticklabels\u001b[39m=\u001b[39;49mdisplay_labels,\n\u001b[0;32m    185\u001b[0m     yticklabels\u001b[39m=\u001b[39;49mdisplay_labels,\n\u001b[0;32m    186\u001b[0m     ylabel\u001b[39m=\u001b[39;49m\u001b[39m\"\u001b[39;49m\u001b[39mTrue label\u001b[39;49m\u001b[39m\"\u001b[39;49m,\n\u001b[0;32m    187\u001b[0m     xlabel\u001b[39m=\u001b[39;49m\u001b[39m\"\u001b[39;49m\u001b[39mPredicted label\u001b[39;49m\u001b[39m\"\u001b[39;49m,\n\u001b[0;32m    188\u001b[0m )\n\u001b[0;32m    190\u001b[0m ax\u001b[39m.\u001b[39mset_ylim((n_classes \u001b[39m-\u001b[39m \u001b[39m0.5\u001b[39m, \u001b[39m-\u001b[39m\u001b[39m0.5\u001b[39m))\n\u001b[0;32m    191\u001b[0m plt\u001b[39m.\u001b[39msetp(ax\u001b[39m.\u001b[39mget_xticklabels(), rotation\u001b[39m=\u001b[39mxticks_rotation)\n",
            "File \u001b[1;32m~\\AppData\\Local\\Packages\\PythonSoftwareFoundation.Python.3.10_qbz5n2kfra8p0\\LocalCache\\local-packages\\Python310\\site-packages\\matplotlib\\artist.py:117\u001b[0m, in \u001b[0;36mArtist.__init_subclass__.<locals>.<lambda>\u001b[1;34m(self, **kwargs)\u001b[0m\n\u001b[0;32m    109\u001b[0m \u001b[39mif\u001b[39;00m \u001b[39mnot\u001b[39;00m \u001b[39mhasattr\u001b[39m(\u001b[39mcls\u001b[39m\u001b[39m.\u001b[39mset, \u001b[39m'\u001b[39m\u001b[39m_autogenerated_signature\u001b[39m\u001b[39m'\u001b[39m):\n\u001b[0;32m    110\u001b[0m     \u001b[39m# Don't overwrite cls.set if the subclass or one of its parents\u001b[39;00m\n\u001b[0;32m    111\u001b[0m     \u001b[39m# has defined a set method set itself.\u001b[39;00m\n\u001b[0;32m    112\u001b[0m     \u001b[39m# If there was no explicit definition, cls.set is inherited from\u001b[39;00m\n\u001b[0;32m    113\u001b[0m     \u001b[39m# the hierarchy of auto-generated set methods, which hold the\u001b[39;00m\n\u001b[0;32m    114\u001b[0m     \u001b[39m# flag _autogenerated_signature.\u001b[39;00m\n\u001b[0;32m    115\u001b[0m     \u001b[39mreturn\u001b[39;00m\n\u001b[1;32m--> 117\u001b[0m \u001b[39mcls\u001b[39m\u001b[39m.\u001b[39mset \u001b[39m=\u001b[39m \u001b[39mlambda\u001b[39;00m \u001b[39mself\u001b[39m, \u001b[39m*\u001b[39m\u001b[39m*\u001b[39mkwargs: Artist\u001b[39m.\u001b[39mset(\u001b[39mself\u001b[39m, \u001b[39m*\u001b[39m\u001b[39m*\u001b[39mkwargs)\n\u001b[0;32m    118\u001b[0m \u001b[39mcls\u001b[39m\u001b[39m.\u001b[39mset\u001b[39m.\u001b[39m\u001b[39m__name__\u001b[39m \u001b[39m=\u001b[39m \u001b[39m\"\u001b[39m\u001b[39mset\u001b[39m\u001b[39m\"\u001b[39m\n\u001b[0;32m    119\u001b[0m \u001b[39mcls\u001b[39m\u001b[39m.\u001b[39mset\u001b[39m.\u001b[39m\u001b[39m__qualname__\u001b[39m \u001b[39m=\u001b[39m \u001b[39mf\u001b[39m\u001b[39m\"\u001b[39m\u001b[39m{\u001b[39;00m\u001b[39mcls\u001b[39m\u001b[39m.\u001b[39m\u001b[39m__qualname__\u001b[39m\u001b[39m}\u001b[39;00m\u001b[39m.set\u001b[39m\u001b[39m\"\u001b[39m\n",
            "File \u001b[1;32m~\\AppData\\Local\\Packages\\PythonSoftwareFoundation.Python.3.10_qbz5n2kfra8p0\\LocalCache\\local-packages\\Python310\\site-packages\\matplotlib\\artist.py:1194\u001b[0m, in \u001b[0;36mArtist.set\u001b[1;34m(self, **kwargs)\u001b[0m\n\u001b[0;32m   1190\u001b[0m \u001b[39mdef\u001b[39;00m \u001b[39mset\u001b[39m(\u001b[39mself\u001b[39m, \u001b[39m*\u001b[39m\u001b[39m*\u001b[39mkwargs):\n\u001b[0;32m   1191\u001b[0m     \u001b[39m# docstring and signature are auto-generated via\u001b[39;00m\n\u001b[0;32m   1192\u001b[0m     \u001b[39m# Artist._update_set_signature_and_docstring() at the end of the\u001b[39;00m\n\u001b[0;32m   1193\u001b[0m     \u001b[39m# module.\u001b[39;00m\n\u001b[1;32m-> 1194\u001b[0m     \u001b[39mreturn\u001b[39;00m \u001b[39mself\u001b[39;49m\u001b[39m.\u001b[39;49m_internal_update(cbook\u001b[39m.\u001b[39;49mnormalize_kwargs(kwargs, \u001b[39mself\u001b[39;49m))\n",
            "File \u001b[1;32m~\\AppData\\Local\\Packages\\PythonSoftwareFoundation.Python.3.10_qbz5n2kfra8p0\\LocalCache\\local-packages\\Python310\\site-packages\\matplotlib\\artist.py:1186\u001b[0m, in \u001b[0;36mArtist._internal_update\u001b[1;34m(self, kwargs)\u001b[0m\n\u001b[0;32m   1179\u001b[0m \u001b[39mdef\u001b[39;00m \u001b[39m_internal_update\u001b[39m(\u001b[39mself\u001b[39m, kwargs):\n\u001b[0;32m   1180\u001b[0m     \u001b[39m\"\"\"\u001b[39;00m\n\u001b[0;32m   1181\u001b[0m \u001b[39m    Update artist properties without prenormalizing them, but generating\u001b[39;00m\n\u001b[0;32m   1182\u001b[0m \u001b[39m    errors as if calling `set`.\u001b[39;00m\n\u001b[0;32m   1183\u001b[0m \n\u001b[0;32m   1184\u001b[0m \u001b[39m    The lack of prenormalization is to maintain backcompatibility.\u001b[39;00m\n\u001b[0;32m   1185\u001b[0m \u001b[39m    \"\"\"\u001b[39;00m\n\u001b[1;32m-> 1186\u001b[0m     \u001b[39mreturn\u001b[39;00m \u001b[39mself\u001b[39;49m\u001b[39m.\u001b[39;49m_update_props(\n\u001b[0;32m   1187\u001b[0m         kwargs, \u001b[39m\"\u001b[39;49m\u001b[39m{cls.__name__}\u001b[39;49;00m\u001b[39m.set() got an unexpected keyword argument \u001b[39;49m\u001b[39m\"\u001b[39;49m\n\u001b[0;32m   1188\u001b[0m         \u001b[39m\"\u001b[39;49m\u001b[39m{prop_name!r}\u001b[39;49;00m\u001b[39m\"\u001b[39;49m)\n",
            "File \u001b[1;32m~\\AppData\\Local\\Packages\\PythonSoftwareFoundation.Python.3.10_qbz5n2kfra8p0\\LocalCache\\local-packages\\Python310\\site-packages\\matplotlib\\artist.py:1162\u001b[0m, in \u001b[0;36mArtist._update_props\u001b[1;34m(self, props, errfmt)\u001b[0m\n\u001b[0;32m   1159\u001b[0m             \u001b[39mif\u001b[39;00m \u001b[39mnot\u001b[39;00m callable(func):\n\u001b[0;32m   1160\u001b[0m                 \u001b[39mraise\u001b[39;00m \u001b[39mAttributeError\u001b[39;00m(\n\u001b[0;32m   1161\u001b[0m                     errfmt\u001b[39m.\u001b[39mformat(\u001b[39mcls\u001b[39m\u001b[39m=\u001b[39m\u001b[39mtype\u001b[39m(\u001b[39mself\u001b[39m), prop_name\u001b[39m=\u001b[39mk))\n\u001b[1;32m-> 1162\u001b[0m             ret\u001b[39m.\u001b[39mappend(func(v))\n\u001b[0;32m   1163\u001b[0m \u001b[39mif\u001b[39;00m ret:\n\u001b[0;32m   1164\u001b[0m     \u001b[39mself\u001b[39m\u001b[39m.\u001b[39mpchanged()\n",
            "File \u001b[1;32m~\\AppData\\Local\\Packages\\PythonSoftwareFoundation.Python.3.10_qbz5n2kfra8p0\\LocalCache\\local-packages\\Python310\\site-packages\\matplotlib\\axes\\_base.py:73\u001b[0m, in \u001b[0;36m_axis_method_wrapper.__set_name__.<locals>.wrapper\u001b[1;34m(self, *args, **kwargs)\u001b[0m\n\u001b[0;32m     72\u001b[0m \u001b[39mdef\u001b[39;00m \u001b[39mwrapper\u001b[39m(\u001b[39mself\u001b[39m, \u001b[39m*\u001b[39margs, \u001b[39m*\u001b[39m\u001b[39m*\u001b[39mkwargs):\n\u001b[1;32m---> 73\u001b[0m     \u001b[39mreturn\u001b[39;00m get_method(\u001b[39mself\u001b[39m)(\u001b[39m*\u001b[39margs, \u001b[39m*\u001b[39m\u001b[39m*\u001b[39mkwargs)\n",
            "File \u001b[1;32m~\\AppData\\Local\\Packages\\PythonSoftwareFoundation.Python.3.10_qbz5n2kfra8p0\\LocalCache\\local-packages\\Python310\\site-packages\\matplotlib\\axis.py:1968\u001b[0m, in \u001b[0;36mAxis._set_ticklabels\u001b[1;34m(self, labels, fontdict, minor, **kwargs)\u001b[0m\n\u001b[0;32m   1966\u001b[0m \u001b[39mif\u001b[39;00m fontdict \u001b[39mis\u001b[39;00m \u001b[39mnot\u001b[39;00m \u001b[39mNone\u001b[39;00m:\n\u001b[0;32m   1967\u001b[0m     kwargs\u001b[39m.\u001b[39mupdate(fontdict)\n\u001b[1;32m-> 1968\u001b[0m \u001b[39mreturn\u001b[39;00m \u001b[39mself\u001b[39m\u001b[39m.\u001b[39mset_ticklabels(labels, minor\u001b[39m=\u001b[39mminor, \u001b[39m*\u001b[39m\u001b[39m*\u001b[39mkwargs)\n",
            "File \u001b[1;32m~\\AppData\\Local\\Packages\\PythonSoftwareFoundation.Python.3.10_qbz5n2kfra8p0\\LocalCache\\local-packages\\Python310\\site-packages\\matplotlib\\axis.py:1890\u001b[0m, in \u001b[0;36mAxis.set_ticklabels\u001b[1;34m(self, ticklabels, minor, **kwargs)\u001b[0m\n\u001b[0;32m   1886\u001b[0m \u001b[39mif\u001b[39;00m \u001b[39misinstance\u001b[39m(locator, mticker\u001b[39m.\u001b[39mFixedLocator):\n\u001b[0;32m   1887\u001b[0m     \u001b[39m# Passing [] as a list of ticklabels is often used as a way to\u001b[39;00m\n\u001b[0;32m   1888\u001b[0m     \u001b[39m# remove all tick labels, so only error for > 0 ticklabels\u001b[39;00m\n\u001b[0;32m   1889\u001b[0m     \u001b[39mif\u001b[39;00m \u001b[39mlen\u001b[39m(locator\u001b[39m.\u001b[39mlocs) \u001b[39m!=\u001b[39m \u001b[39mlen\u001b[39m(ticklabels) \u001b[39mand\u001b[39;00m \u001b[39mlen\u001b[39m(ticklabels) \u001b[39m!=\u001b[39m \u001b[39m0\u001b[39m:\n\u001b[1;32m-> 1890\u001b[0m         \u001b[39mraise\u001b[39;00m \u001b[39mValueError\u001b[39;00m(\n\u001b[0;32m   1891\u001b[0m             \u001b[39m\"\u001b[39m\u001b[39mThe number of FixedLocator locations\u001b[39m\u001b[39m\"\u001b[39m\n\u001b[0;32m   1892\u001b[0m             \u001b[39mf\u001b[39m\u001b[39m\"\u001b[39m\u001b[39m (\u001b[39m\u001b[39m{\u001b[39;00m\u001b[39mlen\u001b[39m(locator\u001b[39m.\u001b[39mlocs)\u001b[39m}\u001b[39;00m\u001b[39m), usually from a call to\u001b[39m\u001b[39m\"\u001b[39m\n\u001b[0;32m   1893\u001b[0m             \u001b[39m\"\u001b[39m\u001b[39m set_ticks, does not match\u001b[39m\u001b[39m\"\u001b[39m\n\u001b[0;32m   1894\u001b[0m             \u001b[39mf\u001b[39m\u001b[39m\"\u001b[39m\u001b[39m the number of ticklabels (\u001b[39m\u001b[39m{\u001b[39;00m\u001b[39mlen\u001b[39m(ticklabels)\u001b[39m}\u001b[39;00m\u001b[39m).\u001b[39m\u001b[39m\"\u001b[39m)\n\u001b[0;32m   1895\u001b[0m     tickd \u001b[39m=\u001b[39m {loc: lab \u001b[39mfor\u001b[39;00m loc, lab \u001b[39min\u001b[39;00m \u001b[39mzip\u001b[39m(locator\u001b[39m.\u001b[39mlocs, ticklabels)}\n\u001b[0;32m   1896\u001b[0m     func \u001b[39m=\u001b[39m functools\u001b[39m.\u001b[39mpartial(\u001b[39mself\u001b[39m\u001b[39m.\u001b[39m_format_with_dict, tickd)\n",
            "\u001b[1;31mValueError\u001b[0m: The number of FixedLocator locations (6), usually from a call to set_ticks, does not match the number of ticklabels (2)."
          ]
        },
        {
          "data": {
            "image/png": "[encoded data removed]",
            "text/plain": [
              "<Figure size 640x480 with 2 Axes>"
            ]
          },
          "metadata": {},
          "output_type": "display_data"
        }
      ],
      "source": [
        "confusion_matrix = metrics.confusion_matrix(y, y_pred_class)\n",
        "cm_display = metrics.ConfusionMatrixDisplay(confusion_matrix = confusion_matrix, display_labels = [False, True])\n",
        "cm_display.plot()\n",
        "plt.show()"
      ]
    },
    {
      "cell_type": "code",
      "execution_count": 34,
      "metadata": {
        "id": "dudp4YzPRt5E"
      },
      "outputs": [
        {
          "data": {
            "image/png": "[encoded data removed]",
            "text/plain": [
              "<Figure size 640x480 with 1 Axes>"
            ]
          },
          "metadata": {},
          "output_type": "display_data"
        }
      ],
      "source": [
        "import matplotlib.pyplot as plt\n",
        "\n",
        "# summarize history for accuracy\n",
        "plt.plot(results['train_acc'])\n",
        "plt.plot(results['test_acc'])\n",
        "plt.title('model accuracy')\n",
        "plt.ylabel('accuracy')\n",
        "plt.xlabel('epoch')\n",
        "plt.legend(['Train', 'Validation'], loc='upper left')\n",
        "plt.show()"
      ]
    },
    {
      "cell_type": "code",
      "execution_count": 35,
      "metadata": {
        "id": "qsNSzQ9FRxIA"
      },
      "outputs": [
        {
          "data": {
            "image/png": "[encoded data removed]",
            "text/plain": [
              "<Figure size 640x480 with 1 Axes>"
            ]
          },
          "metadata": {},
          "output_type": "display_data"
        }
      ],
      "source": [
        "# summarize history for loss\n",
        "plt.plot(results['test_acc'])\n",
        "plt.plot(results['test_loss'])\n",
        "plt.title('model loss')\n",
        "plt.ylabel('loss')\n",
        "plt.xlabel('epoch')\n",
        "plt.legend(['Train', 'Validation'], loc='upper left')\n",
        "plt.show()"
      ]
    },
    {
      "cell_type": "code",
      "execution_count": 36,
      "metadata": {
        "id": "tKVn1vQq9rkX"
      },
      "outputs": [
        {
          "ename": "AttributeError",
          "evalue": "'dict' object has no attribute 'save'",
          "output_type": "error",
          "traceback": [
            "\u001b[1;31m---------------------------------------------------------------------------\u001b[0m",
            "\u001b[1;31mAttributeError\u001b[0m                            Traceback (most recent call last)",
            "Cell \u001b[1;32mIn[36], line 1\u001b[0m\n\u001b[1;32m----> 1\u001b[0m results\u001b[39m.\u001b[39;49msave(model\u001b[39m.\u001b[39mstate_dict(), data_path)\n",
            "\u001b[1;31mAttributeError\u001b[0m: 'dict' object has no attribute 'save'"
          ]
        }
      ],
      "source": [
        "results.save(model.state_dict(), data_path)"
      ]
    }
  ],
  "metadata": {
    "accelerator": "TPU",
    "colab": {
      "machine_shape": "hm",
      "provenance": []
    },
    "gpuClass": "standard",
    "kernelspec": {
      "display_name": "Python 3",
      "language": "python",
      "name": "python3"
    },
    "language_info": {
      "codemirror_mode": {
        "name": "ipython",
        "version": 3
      },
      "file_extension": ".py",
      "mimetype": "text/x-python",
      "name": "python",
      "nbconvert_exporter": "python",
      "pygments_lexer": "ipython3",
      "version": "3.10.9"
    },
    "vscode": {
      "interpreter": {
        "hash": "b07c767ad8f004fe0938b9527e9b3cbab4b30731c7ea224539f3f6ee22ec1af3"
      }
    },
    "widgets": {
      "application/vnd.jupyter.widget-state+json": {
        "0c1ebc7364b54cd69430238af2da78da": {
          "model_module": "@jupyter-widgets/base",
          "model_module_version": "1.2.0",
          "model_name": "LayoutModel",
          "state": {
            "_model_module": "@jupyter-widgets/base",
            "_model_module_version": "1.2.0",
            "_model_name": "LayoutModel",
            "_view_count": null,
            "_view_module": "@jupyter-widgets/base",
            "_view_module_version": "1.2.0",
            "_view_name": "LayoutView",
            "align_content": null,
            "align_items": null,
            "align_self": null,
            "border": null,
            "bottom": null,
            "display": null,
            "flex": null,
            "flex_flow": null,
            "grid_area": null,
            "grid_auto_columns": null,
            "grid_auto_flow": null,
            "grid_auto_rows": null,
            "grid_column": null,
            "grid_gap": null,
            "grid_row": null,
            "grid_template_areas": null,
            "grid_template_columns": null,
            "grid_template_rows": null,
            "height": null,
            "justify_content": null,
            "justify_items": null,
            "left": null,
            "margin": null,
            "max_height": null,
            "max_width": null,
            "min_height": null,
            "min_width": null,
            "object_fit": null,
            "object_position": null,
            "order": null,
            "overflow": null,
            "overflow_x": null,
            "overflow_y": null,
            "padding": null,
            "right": null,
            "top": null,
            "visibility": null,
            "width": null
          }
        },
        "0f9c7c63ce8b49a5ae088b2228342d10": {
          "model_module": "@jupyter-widgets/controls",
          "model_module_version": "1.5.0",
          "model_name": "ProgressStyleModel",
          "state": {
            "_model_module": "@jupyter-widgets/controls",
            "_model_module_version": "1.5.0",
            "_model_name": "ProgressStyleModel",
            "_view_count": null,
            "_view_module": "@jupyter-widgets/base",
            "_view_module_version": "1.2.0",
            "_view_name": "StyleView",
            "bar_color": null,
            "description_width": ""
          }
        },
        "11b40e89bd81467cb9d30cd97034c245": {
          "model_module": "@jupyter-widgets/controls",
          "model_module_version": "1.5.0",
          "model_name": "FloatProgressModel",
          "state": {
            "_dom_classes": [],
            "_model_module": "@jupyter-widgets/controls",
            "_model_module_version": "1.5.0",
            "_model_name": "FloatProgressModel",
            "_view_count": null,
            "_view_module": "@jupyter-widgets/controls",
            "_view_module_version": "1.5.0",
            "_view_name": "ProgressView",
            "bar_style": "success",
            "description": "",
            "description_tooltip": null,
            "layout": "IPY_MODEL_8401b66ca0194d23bcf90a2432f5988f",
            "max": 21444401,
            "min": 0,
            "orientation": "horizontal",
            "style": "IPY_MODEL_981e9ed41029420fabded3ce838dc6ff",
            "value": 21444401
          }
        },
        "20d8d488678948509d34bf863f15a724": {
          "model_module": "@jupyter-widgets/controls",
          "model_module_version": "1.5.0",
          "model_name": "DescriptionStyleModel",
          "state": {
            "_model_module": "@jupyter-widgets/controls",
            "_model_module_version": "1.5.0",
            "_model_name": "DescriptionStyleModel",
            "_view_count": null,
            "_view_module": "@jupyter-widgets/base",
            "_view_module_version": "1.2.0",
            "_view_name": "StyleView",
            "description_width": ""
          }
        },
        "3b32d36730034137865d1cdbb6fdf554": {
          "model_module": "@jupyter-widgets/controls",
          "model_module_version": "1.5.0",
          "model_name": "HBoxModel",
          "state": {
            "_dom_classes": [],
            "_model_module": "@jupyter-widgets/controls",
            "_model_module_version": "1.5.0",
            "_model_name": "HBoxModel",
            "_view_count": null,
            "_view_module": "@jupyter-widgets/controls",
            "_view_module_version": "1.5.0",
            "_view_name": "HBoxView",
            "box_style": "",
            "children": [
              "IPY_MODEL_9b23a8ddefff458d89b81ac0bb0b50ff",
              "IPY_MODEL_11b40e89bd81467cb9d30cd97034c245",
              "IPY_MODEL_d3da4a65ad3b4ff990410eac4d650976"
            ],
            "layout": "IPY_MODEL_d1f63e35f67d439bbfc1e7febd58b841"
          }
        },
        "50b1cf1ec4f8403ebd2e754cf875824b": {
          "model_module": "@jupyter-widgets/base",
          "model_module_version": "1.2.0",
          "model_name": "LayoutModel",
          "state": {
            "_model_module": "@jupyter-widgets/base",
            "_model_module_version": "1.2.0",
            "_model_name": "LayoutModel",
            "_view_count": null,
            "_view_module": "@jupyter-widgets/base",
            "_view_module_version": "1.2.0",
            "_view_name": "LayoutView",
            "align_content": null,
            "align_items": null,
            "align_self": null,
            "border": null,
            "bottom": null,
            "display": null,
            "flex": null,
            "flex_flow": null,
            "grid_area": null,
            "grid_auto_columns": null,
            "grid_auto_flow": null,
            "grid_auto_rows": null,
            "grid_column": null,
            "grid_gap": null,
            "grid_row": null,
            "grid_template_areas": null,
            "grid_template_columns": null,
            "grid_template_rows": null,
            "height": null,
            "justify_content": null,
            "justify_items": null,
            "left": null,
            "margin": null,
            "max_height": null,
            "max_width": null,
            "min_height": null,
            "min_width": null,
            "object_fit": null,
            "object_position": null,
            "order": null,
            "overflow": null,
            "overflow_x": null,
            "overflow_y": null,
            "padding": null,
            "right": null,
            "top": null,
            "visibility": null,
            "width": null
          }
        },
        "639e2006ff344a52aeb103d97b5f8162": {
          "model_module": "@jupyter-widgets/base",
          "model_module_version": "1.2.0",
          "model_name": "LayoutModel",
          "state": {
            "_model_module": "@jupyter-widgets/base",
            "_model_module_version": "1.2.0",
            "_model_name": "LayoutModel",
            "_view_count": null,
            "_view_module": "@jupyter-widgets/base",
            "_view_module_version": "1.2.0",
            "_view_name": "LayoutView",
            "align_content": null,
            "align_items": null,
            "align_self": null,
            "border": null,
            "bottom": null,
            "display": null,
            "flex": null,
            "flex_flow": null,
            "grid_area": null,
            "grid_auto_columns": null,
            "grid_auto_flow": null,
            "grid_auto_rows": null,
            "grid_column": null,
            "grid_gap": null,
            "grid_row": null,
            "grid_template_areas": null,
            "grid_template_columns": null,
            "grid_template_rows": null,
            "height": null,
            "justify_content": null,
            "justify_items": null,
            "left": null,
            "margin": null,
            "max_height": null,
            "max_width": null,
            "min_height": null,
            "min_width": null,
            "object_fit": null,
            "object_position": null,
            "order": null,
            "overflow": null,
            "overflow_x": null,
            "overflow_y": null,
            "padding": null,
            "right": null,
            "top": null,
            "visibility": null,
            "width": null
          }
        },
        "645837bc2ac144e68dbec2974e9e910e": {
          "model_module": "@jupyter-widgets/controls",
          "model_module_version": "1.5.0",
          "model_name": "FloatProgressModel",
          "state": {
            "_dom_classes": [],
            "_model_module": "@jupyter-widgets/controls",
            "_model_module_version": "1.5.0",
            "_model_name": "FloatProgressModel",
            "_view_count": null,
            "_view_module": "@jupyter-widgets/controls",
            "_view_module_version": "1.5.0",
            "_view_name": "ProgressView",
            "bar_style": "",
            "description": "",
            "description_tooltip": null,
            "layout": "IPY_MODEL_cac2728851984d9b9b1b5043749d69f9",
            "max": 50,
            "min": 0,
            "orientation": "horizontal",
            "style": "IPY_MODEL_0f9c7c63ce8b49a5ae088b2228342d10",
            "value": 12
          }
        },
        "8401b66ca0194d23bcf90a2432f5988f": {
          "model_module": "@jupyter-widgets/base",
          "model_module_version": "1.2.0",
          "model_name": "LayoutModel",
          "state": {
            "_model_module": "@jupyter-widgets/base",
            "_model_module_version": "1.2.0",
            "_model_name": "LayoutModel",
            "_view_count": null,
            "_view_module": "@jupyter-widgets/base",
            "_view_module_version": "1.2.0",
            "_view_name": "LayoutView",
            "align_content": null,
            "align_items": null,
            "align_self": null,
            "border": null,
            "bottom": null,
            "display": null,
            "flex": null,
            "flex_flow": null,
            "grid_area": null,
            "grid_auto_columns": null,
            "grid_auto_flow": null,
            "grid_auto_rows": null,
            "grid_column": null,
            "grid_gap": null,
            "grid_row": null,
            "grid_template_areas": null,
            "grid_template_columns": null,
            "grid_template_rows": null,
            "height": null,
            "justify_content": null,
            "justify_items": null,
            "left": null,
            "margin": null,
            "max_height": null,
            "max_width": null,
            "min_height": null,
            "min_width": null,
            "object_fit": null,
            "object_position": null,
            "order": null,
            "overflow": null,
            "overflow_x": null,
            "overflow_y": null,
            "padding": null,
            "right": null,
            "top": null,
            "visibility": null,
            "width": null
          }
        },
        "9810a2b1e69544f9a8c682b8fdb636b5": {
          "model_module": "@jupyter-widgets/controls",
          "model_module_version": "1.5.0",
          "model_name": "DescriptionStyleModel",
          "state": {
            "_model_module": "@jupyter-widgets/controls",
            "_model_module_version": "1.5.0",
            "_model_name": "DescriptionStyleModel",
            "_view_count": null,
            "_view_module": "@jupyter-widgets/base",
            "_view_module_version": "1.2.0",
            "_view_name": "StyleView",
            "description_width": ""
          }
        },
        "981e9ed41029420fabded3ce838dc6ff": {
          "model_module": "@jupyter-widgets/controls",
          "model_module_version": "1.5.0",
          "model_name": "ProgressStyleModel",
          "state": {
            "_model_module": "@jupyter-widgets/controls",
            "_model_module_version": "1.5.0",
            "_model_name": "ProgressStyleModel",
            "_view_count": null,
            "_view_module": "@jupyter-widgets/base",
            "_view_module_version": "1.2.0",
            "_view_name": "StyleView",
            "bar_color": null,
            "description_width": ""
          }
        },
        "9b23a8ddefff458d89b81ac0bb0b50ff": {
          "model_module": "@jupyter-widgets/controls",
          "model_module_version": "1.5.0",
          "model_name": "HTMLModel",
          "state": {
            "_dom_classes": [],
            "_model_module": "@jupyter-widgets/controls",
            "_model_module_version": "1.5.0",
            "_model_name": "HTMLModel",
            "_view_count": null,
            "_view_module": "@jupyter-widgets/controls",
            "_view_module_version": "1.5.0",
            "_view_name": "HTMLView",
            "description": "",
            "description_tooltip": null,
            "layout": "IPY_MODEL_0c1ebc7364b54cd69430238af2da78da",
            "placeholder": "​",
            "style": "IPY_MODEL_fa9acfa0b5f7494bb39c4f4815af0e63",
            "value": "100%"
          }
        },
        "9c51eb14fb9f43eab711741897558f5d": {
          "model_module": "@jupyter-widgets/controls",
          "model_module_version": "1.5.0",
          "model_name": "HBoxModel",
          "state": {
            "_dom_classes": [],
            "_model_module": "@jupyter-widgets/controls",
            "_model_module_version": "1.5.0",
            "_model_name": "HBoxModel",
            "_view_count": null,
            "_view_module": "@jupyter-widgets/controls",
            "_view_module_version": "1.5.0",
            "_view_name": "HBoxView",
            "box_style": "",
            "children": [
              "IPY_MODEL_a6edc6de1a3849f286c6c5a91eb11c91",
              "IPY_MODEL_645837bc2ac144e68dbec2974e9e910e",
              "IPY_MODEL_a776cd9c2f504686bda9b0e8b2c70070"
            ],
            "layout": "IPY_MODEL_e8f21311c4fb4e288e60e3470f27fbf6"
          }
        },
        "a6edc6de1a3849f286c6c5a91eb11c91": {
          "model_module": "@jupyter-widgets/controls",
          "model_module_version": "1.5.0",
          "model_name": "HTMLModel",
          "state": {
            "_dom_classes": [],
            "_model_module": "@jupyter-widgets/controls",
            "_model_module_version": "1.5.0",
            "_model_name": "HTMLModel",
            "_view_count": null,
            "_view_module": "@jupyter-widgets/controls",
            "_view_module_version": "1.5.0",
            "_view_name": "HTMLView",
            "description": "",
            "description_tooltip": null,
            "layout": "IPY_MODEL_50b1cf1ec4f8403ebd2e754cf875824b",
            "placeholder": "​",
            "style": "IPY_MODEL_9810a2b1e69544f9a8c682b8fdb636b5",
            "value": " 24%"
          }
        },
        "a776cd9c2f504686bda9b0e8b2c70070": {
          "model_module": "@jupyter-widgets/controls",
          "model_module_version": "1.5.0",
          "model_name": "HTMLModel",
          "state": {
            "_dom_classes": [],
            "_model_module": "@jupyter-widgets/controls",
            "_model_module_version": "1.5.0",
            "_model_name": "HTMLModel",
            "_view_count": null,
            "_view_module": "@jupyter-widgets/controls",
            "_view_module_version": "1.5.0",
            "_view_name": "HTMLView",
            "description": "",
            "description_tooltip": null,
            "layout": "IPY_MODEL_bd8d1e9cde044defac8cc120848d366f",
            "placeholder": "​",
            "style": "IPY_MODEL_20d8d488678948509d34bf863f15a724",
            "value": " 12/50 [3:24:11&lt;11:02:42, 1046.39s/it]"
          }
        },
        "bd8d1e9cde044defac8cc120848d366f": {
          "model_module": "@jupyter-widgets/base",
          "model_module_version": "1.2.0",
          "model_name": "LayoutModel",
          "state": {
            "_model_module": "@jupyter-widgets/base",
            "_model_module_version": "1.2.0",
            "_model_name": "LayoutModel",
            "_view_count": null,
            "_view_module": "@jupyter-widgets/base",
            "_view_module_version": "1.2.0",
            "_view_name": "LayoutView",
            "align_content": null,
            "align_items": null,
            "align_self": null,
            "border": null,
            "bottom": null,
            "display": null,
            "flex": null,
            "flex_flow": null,
            "grid_area": null,
            "grid_auto_columns": null,
            "grid_auto_flow": null,
            "grid_auto_rows": null,
            "grid_column": null,
            "grid_gap": null,
            "grid_row": null,
            "grid_template_areas": null,
            "grid_template_columns": null,
            "grid_template_rows": null,
            "height": null,
            "justify_content": null,
            "justify_items": null,
            "left": null,
            "margin": null,
            "max_height": null,
            "max_width": null,
            "min_height": null,
            "min_width": null,
            "object_fit": null,
            "object_position": null,
            "order": null,
            "overflow": null,
            "overflow_x": null,
            "overflow_y": null,
            "padding": null,
            "right": null,
            "top": null,
            "visibility": null,
            "width": null
          }
        },
        "cac2728851984d9b9b1b5043749d69f9": {
          "model_module": "@jupyter-widgets/base",
          "model_module_version": "1.2.0",
          "model_name": "LayoutModel",
          "state": {
            "_model_module": "@jupyter-widgets/base",
            "_model_module_version": "1.2.0",
            "_model_name": "LayoutModel",
            "_view_count": null,
            "_view_module": "@jupyter-widgets/base",
            "_view_module_version": "1.2.0",
            "_view_name": "LayoutView",
            "align_content": null,
            "align_items": null,
            "align_self": null,
            "border": null,
            "bottom": null,
            "display": null,
            "flex": null,
            "flex_flow": null,
            "grid_area": null,
            "grid_auto_columns": null,
            "grid_auto_flow": null,
            "grid_auto_rows": null,
            "grid_column": null,
            "grid_gap": null,
            "grid_row": null,
            "grid_template_areas": null,
            "grid_template_columns": null,
            "grid_template_rows": null,
            "height": null,
            "justify_content": null,
            "justify_items": null,
            "left": null,
            "margin": null,
            "max_height": null,
            "max_width": null,
            "min_height": null,
            "min_width": null,
            "object_fit": null,
            "object_position": null,
            "order": null,
            "overflow": null,
            "overflow_x": null,
            "overflow_y": null,
            "padding": null,
            "right": null,
            "top": null,
            "visibility": null,
            "width": null
          }
        },
        "d1f63e35f67d439bbfc1e7febd58b841": {
          "model_module": "@jupyter-widgets/base",
          "model_module_version": "1.2.0",
          "model_name": "LayoutModel",
          "state": {
            "_model_module": "@jupyter-widgets/base",
            "_model_module_version": "1.2.0",
            "_model_name": "LayoutModel",
            "_view_count": null,
            "_view_module": "@jupyter-widgets/base",
            "_view_module_version": "1.2.0",
            "_view_name": "LayoutView",
            "align_content": null,
            "align_items": null,
            "align_self": null,
            "border": null,
            "bottom": null,
            "display": null,
            "flex": null,
            "flex_flow": null,
            "grid_area": null,
            "grid_auto_columns": null,
            "grid_auto_flow": null,
            "grid_auto_rows": null,
            "grid_column": null,
            "grid_gap": null,
            "grid_row": null,
            "grid_template_areas": null,
            "grid_template_columns": null,
            "grid_template_rows": null,
            "height": null,
            "justify_content": null,
            "justify_items": null,
            "left": null,
            "margin": null,
            "max_height": null,
            "max_width": null,
            "min_height": null,
            "min_width": null,
            "object_fit": null,
            "object_position": null,
            "order": null,
            "overflow": null,
            "overflow_x": null,
            "overflow_y": null,
            "padding": null,
            "right": null,
            "top": null,
            "visibility": null,
            "width": null
          }
        },
        "d3da4a65ad3b4ff990410eac4d650976": {
          "model_module": "@jupyter-widgets/controls",
          "model_module_version": "1.5.0",
          "model_name": "HTMLModel",
          "state": {
            "_dom_classes": [],
            "_model_module": "@jupyter-widgets/controls",
            "_model_module_version": "1.5.0",
            "_model_name": "HTMLModel",
            "_view_count": null,
            "_view_module": "@jupyter-widgets/controls",
            "_view_module_version": "1.5.0",
            "_view_name": "HTMLView",
            "description": "",
            "description_tooltip": null,
            "layout": "IPY_MODEL_639e2006ff344a52aeb103d97b5f8162",
            "placeholder": "​",
            "style": "IPY_MODEL_fdf61e22a93d47eda5e62592e0ceb5f4",
            "value": " 20.5M/20.5M [00:01&lt;00:00, 26.3MB/s]"
          }
        },
        "e8f21311c4fb4e288e60e3470f27fbf6": {
          "model_module": "@jupyter-widgets/base",
          "model_module_version": "1.2.0",
          "model_name": "LayoutModel",
          "state": {
            "_model_module": "@jupyter-widgets/base",
            "_model_module_version": "1.2.0",
            "_model_name": "LayoutModel",
            "_view_count": null,
            "_view_module": "@jupyter-widgets/base",
            "_view_module_version": "1.2.0",
            "_view_name": "LayoutView",
            "align_content": null,
            "align_items": null,
            "align_self": null,
            "border": null,
            "bottom": null,
            "display": null,
            "flex": null,
            "flex_flow": null,
            "grid_area": null,
            "grid_auto_columns": null,
            "grid_auto_flow": null,
            "grid_auto_rows": null,
            "grid_column": null,
            "grid_gap": null,
            "grid_row": null,
            "grid_template_areas": null,
            "grid_template_columns": null,
            "grid_template_rows": null,
            "height": null,
            "justify_content": null,
            "justify_items": null,
            "left": null,
            "margin": null,
            "max_height": null,
            "max_width": null,
            "min_height": null,
            "min_width": null,
            "object_fit": null,
            "object_position": null,
            "order": null,
            "overflow": null,
            "overflow_x": null,
            "overflow_y": null,
            "padding": null,
            "right": null,
            "top": null,
            "visibility": null,
            "width": null
          }
        },
        "fa9acfa0b5f7494bb39c4f4815af0e63": {
          "model_module": "@jupyter-widgets/controls",
          "model_module_version": "1.5.0",
          "model_name": "DescriptionStyleModel",
          "state": {
            "_model_module": "@jupyter-widgets/controls",
            "_model_module_version": "1.5.0",
            "_model_name": "DescriptionStyleModel",
            "_view_count": null,
            "_view_module": "@jupyter-widgets/base",
            "_view_module_version": "1.2.0",
            "_view_name": "StyleView",
            "description_width": ""
          }
        },
        "fdf61e22a93d47eda5e62592e0ceb5f4": {
          "model_module": "@jupyter-widgets/controls",
          "model_module_version": "1.5.0",
          "model_name": "DescriptionStyleModel",
          "state": {
            "_model_module": "@jupyter-widgets/controls",
            "_model_module_version": "1.5.0",
            "_model_name": "DescriptionStyleModel",
            "_view_count": null,
            "_view_module": "@jupyter-widgets/base",
            "_view_module_version": "1.2.0",
            "_view_name": "StyleView",
            "description_width": ""
          }
        }
      }
    }
  },
  "nbformat": 4,
  "nbformat_minor": 0
}
