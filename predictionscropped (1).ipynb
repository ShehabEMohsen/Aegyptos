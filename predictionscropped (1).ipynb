{
 "cells": [
  {
   "cell_type": "code",
   "execution_count": 1,
   "metadata": {},
   "outputs": [
    {
     "name": "stderr",
     "output_type": "stream",
     "text": [
      "c:\\Users\\Ahmed B\\AppData\\Local\\Programs\\Python\\Python310\\lib\\site-packages\\torchvision\\io\\image.py:13: UserWarning: Failed to load image Python extension: [WinError 127] The specified procedure could not be found\n",
      "  warn(f\"Failed to load image Python extension: {e}\")\n"
     ]
    },
    {
     "data": {
      "text/plain": [
       "SqueezeNet(\n",
       "  (features): Sequential(\n",
       "    (0): Conv2d(3, 96, kernel_size=(7, 7), stride=(2, 2))\n",
       "    (1): ReLU(inplace=True)\n",
       "    (2): MaxPool2d(kernel_size=3, stride=2, padding=0, dilation=1, ceil_mode=True)\n",
       "    (3): Fire(\n",
       "      (squeeze): Conv2d(96, 16, kernel_size=(1, 1), stride=(1, 1))\n",
       "      (squeeze_activation): ReLU(inplace=True)\n",
       "      (expand1x1): Conv2d(16, 64, kernel_size=(1, 1), stride=(1, 1))\n",
       "      (expand1x1_activation): ReLU(inplace=True)\n",
       "      (expand3x3): Conv2d(16, 64, kernel_size=(3, 3), stride=(1, 1), padding=(1, 1))\n",
       "      (expand3x3_activation): ReLU(inplace=True)\n",
       "    )\n",
       "    (4): Fire(\n",
       "      (squeeze): Conv2d(128, 16, kernel_size=(1, 1), stride=(1, 1))\n",
       "      (squeeze_activation): ReLU(inplace=True)\n",
       "      (expand1x1): Conv2d(16, 64, kernel_size=(1, 1), stride=(1, 1))\n",
       "      (expand1x1_activation): ReLU(inplace=True)\n",
       "      (expand3x3): Conv2d(16, 64, kernel_size=(3, 3), stride=(1, 1), padding=(1, 1))\n",
       "      (expand3x3_activation): ReLU(inplace=True)\n",
       "    )\n",
       "    (5): Fire(\n",
       "      (squeeze): Conv2d(128, 32, kernel_size=(1, 1), stride=(1, 1))\n",
       "      (squeeze_activation): ReLU(inplace=True)\n",
       "      (expand1x1): Conv2d(32, 128, kernel_size=(1, 1), stride=(1, 1))\n",
       "      (expand1x1_activation): ReLU(inplace=True)\n",
       "      (expand3x3): Conv2d(32, 128, kernel_size=(3, 3), stride=(1, 1), padding=(1, 1))\n",
       "      (expand3x3_activation): ReLU(inplace=True)\n",
       "    )\n",
       "    (6): MaxPool2d(kernel_size=3, stride=2, padding=0, dilation=1, ceil_mode=True)\n",
       "    (7): Fire(\n",
       "      (squeeze): Conv2d(256, 32, kernel_size=(1, 1), stride=(1, 1))\n",
       "      (squeeze_activation): ReLU(inplace=True)\n",
       "      (expand1x1): Conv2d(32, 128, kernel_size=(1, 1), stride=(1, 1))\n",
       "      (expand1x1_activation): ReLU(inplace=True)\n",
       "      (expand3x3): Conv2d(32, 128, kernel_size=(3, 3), stride=(1, 1), padding=(1, 1))\n",
       "      (expand3x3_activation): ReLU(inplace=True)\n",
       "    )\n",
       "    (8): Fire(\n",
       "      (squeeze): Conv2d(256, 48, kernel_size=(1, 1), stride=(1, 1))\n",
       "      (squeeze_activation): ReLU(inplace=True)\n",
       "      (expand1x1): Conv2d(48, 192, kernel_size=(1, 1), stride=(1, 1))\n",
       "      (expand1x1_activation): ReLU(inplace=True)\n",
       "      (expand3x3): Conv2d(48, 192, kernel_size=(3, 3), stride=(1, 1), padding=(1, 1))\n",
       "      (expand3x3_activation): ReLU(inplace=True)\n",
       "    )\n",
       "    (9): Fire(\n",
       "      (squeeze): Conv2d(384, 48, kernel_size=(1, 1), stride=(1, 1))\n",
       "      (squeeze_activation): ReLU(inplace=True)\n",
       "      (expand1x1): Conv2d(48, 192, kernel_size=(1, 1), stride=(1, 1))\n",
       "      (expand1x1_activation): ReLU(inplace=True)\n",
       "      (expand3x3): Conv2d(48, 192, kernel_size=(3, 3), stride=(1, 1), padding=(1, 1))\n",
       "      (expand3x3_activation): ReLU(inplace=True)\n",
       "    )\n",
       "    (10): Fire(\n",
       "      (squeeze): Conv2d(384, 64, kernel_size=(1, 1), stride=(1, 1))\n",
       "      (squeeze_activation): ReLU(inplace=True)\n",
       "      (expand1x1): Conv2d(64, 256, kernel_size=(1, 1), stride=(1, 1))\n",
       "      (expand1x1_activation): ReLU(inplace=True)\n",
       "      (expand3x3): Conv2d(64, 256, kernel_size=(3, 3), stride=(1, 1), padding=(1, 1))\n",
       "      (expand3x3_activation): ReLU(inplace=True)\n",
       "    )\n",
       "    (11): MaxPool2d(kernel_size=3, stride=2, padding=0, dilation=1, ceil_mode=True)\n",
       "    (12): Fire(\n",
       "      (squeeze): Conv2d(512, 64, kernel_size=(1, 1), stride=(1, 1))\n",
       "      (squeeze_activation): ReLU(inplace=True)\n",
       "      (expand1x1): Conv2d(64, 256, kernel_size=(1, 1), stride=(1, 1))\n",
       "      (expand1x1_activation): ReLU(inplace=True)\n",
       "      (expand3x3): Conv2d(64, 256, kernel_size=(3, 3), stride=(1, 1), padding=(1, 1))\n",
       "      (expand3x3_activation): ReLU(inplace=True)\n",
       "    )\n",
       "  )\n",
       "  (classifier): Sequential(\n",
       "    (0): Dropout(p=0.5, inplace=False)\n",
       "    (1): Conv2d(512, 1072, kernel_size=(1, 1), stride=(1, 1))\n",
       "    (2): ReLU(inplace=True)\n",
       "    (3): AdaptiveAvgPool2d(output_size=(1, 1))\n",
       "  )\n",
       ")"
      ]
     },
     "execution_count": 1,
     "metadata": {},
     "output_type": "execute_result"
    }
   ],
   "source": [
    "# loaded_model = pickle.load(\"squeezenetfinetuned.pkl\")\n",
    "import sklearn \n",
    "import numpy as np\n",
    "import joblib\n",
    "import pickle\n",
    "import torch\n",
    "\n",
    "#Basma\n",
    "# classifer = joblib.load(\"C:/Users/basma/Fourth Year/Graduation_Project/squeezenetfinetuned.pkl\")\n",
    "\n",
    "#Bassem\n",
    "# classifer = joblib.load(\"squeezenetuntrained.pkl\")\n",
    "\n",
    "# model = pickle.load(open('new squeezenet(finetuned).pkl', 'rb'))\n",
    "model = pickle.load(open('squeezenetLxA_dataset.pkl', 'rb'))\n",
    "model.eval()"
   ]
  },
  {
   "cell_type": "code",
   "execution_count": 4,
   "metadata": {},
   "outputs": [
    {
     "name": "stdout",
     "output_type": "stream",
     "text": [
      "The image is Colored\n"
     ]
    }
   ],
   "source": [
    "import cv2\n",
    "import numpy as np\n",
    "\n",
    "\n",
    "################################################################################################\n",
    "# Set threshold values for binary image and blob analysis\n",
    "deleteCounterImage = 0\n",
    "binary_threshold = 50\n",
    "blob_min_area = 200\n",
    "\n",
    "# # Load the input image\n",
    "# image = cv2.imread(\"word3.png\")\n",
    "\n",
    "# # Convert the image to grayscale\n",
    "# gray = cv2.cvtColor(image, cv2.COLOR_BGR2GRAY)\n",
    "\n",
    "# # Calculate the image histogram\n",
    "# hist = cv2.calcHist([gray], [0], None, [256], [0, 256])\n",
    "\n",
    "# # Check if the histogram contains more than two significant peaks\n",
    "# significant_peaks = np.sum(hist > 0.1 * np.max(hist))\n",
    "# is_black_and_white = significant_peaks <= 2\n",
    "\n",
    "# # Print the result\n",
    "# if is_black_and_white:\n",
    "#     print(\"The image is black and white.\")\n",
    "# else:\n",
    "#     print(\"The image is Colored\")\n",
    "################################################################################################\n",
    "# Load the input image\n",
    "image = cv2.imread(\"word4.png\")\n",
    "\n",
    "# Convert image to grayscale\n",
    "gray = cv2.cvtColor(image, cv2.COLOR_BGR2GRAY)\n",
    "\n",
    "# Removing illumination noise using Adaptive Threshold\n",
    "thresh = cv2.adaptiveThreshold(gray, 255, cv2.ADAPTIVE_THRESH_MEAN_C, cv2.THRESH_BINARY, 51, 25)\n",
    "\n",
    "# Apply Otsu's thresholding method to get a binary image\n",
    "_, threshold = cv2.threshold(gray, 0, 255, cv2.THRESH_BINARY + cv2.THRESH_OTSU)\n",
    "\n",
    "# Invert the binary image\n",
    "binary = cv2.bitwise_not(threshold)\n",
    "\n",
    "# Remove Salt and Pepper Noise\n",
    "denoised_image = cv2.medianBlur(binary, 3)\n",
    "\n",
    "# Perform blob analysis\n",
    "contours, hierarchy = cv2.findContours(denoised_image, cv2.RETR_EXTERNAL, cv2.CHAIN_APPROX_SIMPLE)\n",
    "\n",
    "# Sort contours by x-coordinate and then by y-coordinate\n",
    "# contours = sorted(contours, key=lambda c: (cv2.boundingRect(c)[0], cv2.boundingRect(c)[1]))\n",
    "# Sort contours from top to bottom and left to right\n",
    "contours = sorted(contours, key=lambda c: (cv2.boundingRect(c)[1], cv2.boundingRect(c)[0]))\n",
    "\n",
    "# threshold_percentage = 0.01  # Adjust this value as needed\n",
    "# blob_min_area = int(image.shape[0] * image.shape[1] * threshold_percentage)\n",
    "\n",
    "# Iterate over the sorted contours\n",
    "for i, contour in enumerate(contours):\n",
    "    \n",
    "    # Check if the area of the contour is large enough to be considered an object\n",
    "    if cv2.contourArea(contour) > blob_min_area:\n",
    "        # Get bounding box coordinates\n",
    "        x, y, w, h = cv2.boundingRect(contour)\n",
    "\n",
    "        # Crop the image using the bounding box coordinates\n",
    "        crop_img = image[y:y+h, x:x+w]\n",
    "        # Save the cropped image to a file\n",
    "        filename = f\"crop_{i}.png\"\n",
    "        cv2.imwrite(filename, crop_img)\n",
    "\n",
    "        "
   ]
  },
  {
   "cell_type": "code",
   "execution_count": 15,
   "metadata": {},
   "outputs": [],
   "source": [
    "from PIL import Image, ImageFilter\n",
    "import glob\n",
    "\n",
    "image_array = []\n",
    "image_files = glob.glob(\"*crop*.png\")\n",
    "for i, image_file in enumerate(image_files):\n",
    "    \n",
    "    # print(\"ana: \",i)\n",
    "    # Load the input image\n",
    "    # image1 = cv2.imread(\"X007.png\")\n",
    "    image1 = cv2.imread(image_file)\n",
    "\n",
    "    # Get the original dimensions of the image\n",
    "    height, width, _ = image1.shape\n",
    "\n",
    "    # Calculate the aspect ratio of the image\n",
    "    aspect_ratio = width / height\n",
    "\n",
    "    # Set the desired output size (height or width)\n",
    "    output_size = 224\n",
    "\n",
    "    # Calculate the other dimension based on the aspect ratio\n",
    "    if width > height:\n",
    "        new_width = output_size\n",
    "        new_height = int(new_width / aspect_ratio)\n",
    "    else:\n",
    "        new_height = output_size\n",
    "        new_width = int(new_height * aspect_ratio)\n",
    "\n",
    "    # Resize the image\n",
    "    resized_image = cv2.resize(image1, (new_width, new_height))\n",
    "\n",
    "    # Calculate the coordinates to copy the resized image onto the new image\n",
    "    x_offset = int((output_size - new_width) / 2)\n",
    "    y_offset = int((output_size - new_height) / 2)\n",
    "\n",
    "    # Save the resized image to a file\n",
    "    cv2.imwrite(f\"resize{i}.png\", resized_image)\n",
    "\n",
    "    # Load the resized image from file\n",
    "    resized_image = cv2.imread(f\"resize{i}.png\")\n",
    "\n",
    "    # Convert image to grayscale\n",
    "    gray = cv2.cvtColor(resized_image, cv2.COLOR_BGR2GRAY)\n",
    "    # do adaptive threshold on gray image\n",
    "    thresh1 = cv2.adaptiveThreshold(gray, 255, cv2.ADAPTIVE_THRESH_MEAN_C, cv2.THRESH_BINARY, 51, 25)\n",
    "    # Apply Otsu's thresholding method to get a binary image\n",
    "    thresh2 = cv2.threshold(thresh1, 0, 255, cv2.THRESH_OTSU + cv2.THRESH_BINARY)[1]\n",
    "    # Invert the binary image\n",
    "    inv = cv2.bitwise_not(thresh2)\n",
    "    # Apply median filtering\n",
    "    denoised_image = cv2.medianBlur(binary, 3)\n",
    "    # Save the segmented image to a file\n",
    "    cv2.imwrite(f\"seg_img{i}.png\", inv)\n",
    "    # Load the segmented image from file\n",
    "    seg_img = cv2.imread(f\"seg_img{i}.png\")\n",
    "\n",
    "    # Create a new blank image with the desired output size\n",
    "    new_image = np.zeros((output_size, output_size, 3), np.uint8)\n",
    "    new_image[:, :] = (0, 0, 0)  # fill with black pixels\n",
    "\n",
    "    # Copy the segmented image onto the new image with black pixels\n",
    "    new_image[y_offset:y_offset+new_height, x_offset:x_offset+new_width] = seg_img\n",
    "\n",
    "    # Save the new image to a file\n",
    "    cv2.imwrite(f\"final{i}.png\", new_image)\n",
    "    deleteCounterImage = deleteCounterImage+1\n",
    "    # image_array.append(new_image)\n"
   ]
  },
  {
   "cell_type": "code",
   "execution_count": 16,
   "metadata": {},
   "outputs": [
    {
     "name": "stdout",
     "output_type": "stream",
     "text": [
      "tensor([30.1412,  5.2579,  3.3973,  ...,  0.9228,  0.4880,  0.8590])\n",
      "F004 0.9133402109146118\n",
      "D055 0.06149863451719284\n",
      "V028 0.018693381920456886\n",
      "L002 0.0021536550484597683\n",
      "U022 0.0016547832638025284\n",
      "F004\n",
      "Percentage of confidence for D021: 0.00%\n",
      "F004\n",
      "2\n",
      "tensor([14.3598, 14.5042, 10.4926,  ...,  0.6460,  0.9081,  0.6367])\n",
      "S014A 0.5319290161132812\n",
      "AA012 0.28926658630371094\n",
      "O001 0.10063762962818146\n",
      "M039 0.03779811039566994\n",
      "F004 0.017189670354127884\n",
      "S014A\n",
      "Percentage of confidence for D021: 0.00%\n",
      "F004 S014A\n",
      "2\n",
      "tensor([11.5215,  7.3488,  1.7157,  ...,  0.6869,  0.4944,  0.3185])\n",
      "D021 0.9990808963775635\n",
      "U004 0.0002796726766973734\n",
      "I009 0.0002740708878263831\n",
      "L002 0.00024076434783637524\n",
      "M003 3.679895235109143e-05\n",
      "D021\n",
      "Percentage of confidence for D021: 99.91%\n",
      "F004 S014A D021\n",
      "2\n"
     ]
    }
   ],
   "source": [
    "import torchvision.transforms as transforms\n",
    "from PIL import Image\n",
    "from PIL import ImageFile\n",
    "import cv2\n",
    "\n",
    "results = \"\"\n",
    "#Basma\n",
    "for i in range(deleteCounterImage):\n",
    "    # print(deleteCounterImage)\n",
    "    input_image = Image.open(f'final{i}.png').convert('RGB')\n",
    "# input_image = Image.open('C:/Users/basma/Fourth Year/Graduation_Project/SegmentedDatasetAgain/train/A040/A040_1.png').convert('RGB')\n",
    "#Bassem\n",
    "# input_image = Image.open('D:/Ahmed Bassem/MIU/Year 4/Graduation Project/Datasets/SegmentedDataset/SegmentedDataset/test/O001/O001_1.png').convert('RGB')\n",
    "\n",
    "    preprocess = transforms.Compose([\n",
    "        transforms.Resize(256),\n",
    "        transforms.CenterCrop(224),\n",
    "        transforms.ToTensor(),\n",
    "        transforms.Normalize(mean=[0.485, 0.456, 0.406], std=[0.229, 0.224, 0.225]),\n",
    "        # transforms.Pad(50),\n",
    "    ])\n",
    "    input_tensor = preprocess(input_image)\n",
    "    # input_tensor = preprocess(Image.fromarray(i))\n",
    "    input_batch = input_tensor.unsqueeze(0)\n",
    "    if torch.cuda.is_available():\n",
    "        input_batch = input_batch.to('cuda')\n",
    "        model.to('cuda')\n",
    "\n",
    "    with torch.no_grad():\n",
    "        output = model(input_batch)\n",
    "\n",
    "    # Tensor of shape 1000, with confidence scores over Aegyptos' 1072 classes\n",
    "    print(output[0])\n",
    "    # The output has unnormalized scores. To get probabilities, you can run a softmax on it.\n",
    "    probabilities = torch.nn.functional.softmax(output[0], dim=0)\n",
    "\n",
    "    # Read the categories\n",
    "    #Basma\n",
    "    with open(\"classes_names_LxA.txt\", \"r\") as f:\n",
    "\n",
    "    #Bassem\n",
    "    # with open(\"D:/Ahmed Bassem/MIU\\Year 4/Graduation Project/classes_names.txt\", \"r\") as f:\n",
    "        categories = [s.strip() for s in f.readlines()]\n",
    "    # Show top categories per image\n",
    "    top5_prob, top5_catid = torch.topk(probabilities, 5)\n",
    "    for i in range(top5_prob.size(0)):\n",
    "        print(categories[top5_catid[i]], top5_prob[i].item())\n",
    "\n",
    "    top1 = categories[top5_catid[0]]\n",
    "    print(top1)\n",
    "\n",
    "    class_name = 'D021'\n",
    "    class_index = categories.index(class_name)\n",
    "    class_prob = probabilities[class_index] * 100\n",
    "    print(f\"Percentage of confidence for {class_name}: {class_prob:.2f}%\")\n",
    "\n",
    "    # results = results + top1 + \" \"\n",
    "    results += \" \"+ top1\n",
    "    updated_results = results.replace(\" \", \"\", 1)\n",
    "        # results.append(top1)\n",
    "    print(updated_results)\n",
    "    choose_dictionary_list=deleteCounterImage-1\n",
    "    print(choose_dictionary_list)"
   ]
  },
  {
   "cell_type": "code",
   "execution_count": 8,
   "metadata": {},
   "outputs": [
    {
     "name": "stdout",
     "output_type": "stream",
     "text": [
      "0\n",
      "1\n",
      "2\n"
     ]
    }
   ],
   "source": [
    "# for i in range(deleteCounterImage):\n",
    "#     print(i)\n",
    "#     if(updated_results[i] == 'A'):\n",
    "#         print(\"A\")\n",
    "#         print(i)\n",
    "        "
   ]
  },
  {
   "cell_type": "code",
   "execution_count": 17,
   "metadata": {},
   "outputs": [
    {
     "name": "stdout",
     "output_type": "stream",
     "text": [
      "[(['O001 D021 D054'], 69, 'walk'), (['O034 V031 D021'], 69, 'Seker or Soker'), (['S029 D066 F046A'], 60, 'Write'), (['V031 G001 A002'], 55, 'Think'), (['O034 X001 B001'], 55, 'Women')]\n",
      "(['O001 D021 D054'], 69, 'walk')\n",
      "walk\n"
     ]
    }
   ],
   "source": [
    "# import matching_algorithm as ma\n",
    "# print(ma.dictionary_matching(updated_results))\n",
    "\n",
    "##NEW CODE\n",
    "import matching_algorithm3 as ma\n",
    "print(ma.dictionary_matching(updated_results,choose_dictionary_list))\n"
   ]
  },
  {
   "cell_type": "code",
   "execution_count": 6,
   "metadata": {},
   "outputs": [],
   "source": [
    "import os\n",
    "\n",
    "# Delete previously created images\n",
    "cropImageRemovals = glob.glob(\"*crop*.png\")\n",
    "for i in range(deleteCounterImage):\n",
    "    removeCrop = cropImageRemovals\n",
    "    removeSegImg = f\"seg_img{i}.png\"\n",
    "    removeFinal = f\"final{i}.png\"\n",
    "    removeResize = f\"resize{i}.png\"\n",
    "    try:\n",
    "        os.remove(removeCrop[i])\n",
    "        os.remove(removeSegImg)\n",
    "        os.remove(removeFinal)\n",
    "        os.remove(removeResize)\n",
    "    except FileNotFoundError:\n",
    "        pass"
   ]
  },
  {
   "cell_type": "code",
   "execution_count": 6,
   "metadata": {},
   "outputs": [
    {
     "name": "stdout",
     "output_type": "stream",
     "text": [
      "لا يوجد صوت\n"
     ]
    }
   ],
   "source": [
    "import matching_algorithm_pronunciation as ma\n",
    "print(ma.dictionary_matching_pronunciation(updated_results))"
   ]
  },
  {
   "cell_type": "code",
   "execution_count": 7,
   "metadata": {},
   "outputs": [],
   "source": [
    "import googletrans\n",
    "from googletrans import *"
   ]
  },
  {
   "cell_type": "code",
   "execution_count": 8,
   "metadata": {},
   "outputs": [
    {
     "ename": "AttributeError",
     "evalue": "module 'matching_algorithm_pronunciation' has no attribute 'dictionary_matching'",
     "output_type": "error",
     "traceback": [
      "\u001b[1;31m---------------------------------------------------------------------------\u001b[0m",
      "\u001b[1;31mAttributeError\u001b[0m                            Traceback (most recent call last)",
      "\u001b[1;32md:\\Ahmed Bassem\\MIU\\Year 4\\Graduation Project\\Flask Code\\Aegyptos\\predictionscropped.ipynb Cell 9\u001b[0m in \u001b[0;36m<cell line: 1>\u001b[1;34m()\u001b[0m\n\u001b[1;32m----> <a href='vscode-notebook-cell:/d%3A/Ahmed%20Bassem/MIU/Year%204/Graduation%20Project/Flask%20Code/Aegyptos/predictionscropped.ipynb#X11sZmlsZQ%3D%3D?line=0'>1</a>\u001b[0m match \u001b[39m=\u001b[39m ma\u001b[39m.\u001b[39;49mdictionary_matching(updated_results)\n",
      "\u001b[1;31mAttributeError\u001b[0m: module 'matching_algorithm_pronunciation' has no attribute 'dictionary_matching'"
     ]
    }
   ],
   "source": [
    "match = ma.dictionary_matching(updated_results)"
   ]
  },
  {
   "cell_type": "code",
   "execution_count": 9,
   "metadata": {},
   "outputs": [
    {
     "ename": "NameError",
     "evalue": "name 'match' is not defined",
     "output_type": "error",
     "traceback": [
      "\u001b[1;31m---------------------------------------------------------------------------\u001b[0m",
      "\u001b[1;31mNameError\u001b[0m                                 Traceback (most recent call last)",
      "\u001b[1;32md:\\Ahmed Bassem\\MIU\\Year 4\\Graduation Project\\Flask Code\\Aegyptos\\predictionscropped.ipynb Cell 10\u001b[0m in \u001b[0;36m<cell line: 2>\u001b[1;34m()\u001b[0m\n\u001b[0;32m      <a href='vscode-notebook-cell:/d%3A/Ahmed%20Bassem/MIU/Year%204/Graduation%20Project/Flask%20Code/Aegyptos/predictionscropped.ipynb#X12sZmlsZQ%3D%3D?line=0'>1</a>\u001b[0m translator \u001b[39m=\u001b[39m googletrans\u001b[39m.\u001b[39mTranslator()\n\u001b[1;32m----> <a href='vscode-notebook-cell:/d%3A/Ahmed%20Bassem/MIU/Year%204/Graduation%20Project/Flask%20Code/Aegyptos/predictionscropped.ipynb#X12sZmlsZQ%3D%3D?line=1'>2</a>\u001b[0m translate\u001b[39m=\u001b[39mtranslator\u001b[39m.\u001b[39mtranslate(match,dest\u001b[39m=\u001b[39m\u001b[39m'\u001b[39m\u001b[39marabic\u001b[39m\u001b[39m'\u001b[39m)\n\u001b[0;32m      <a href='vscode-notebook-cell:/d%3A/Ahmed%20Bassem/MIU/Year%204/Graduation%20Project/Flask%20Code/Aegyptos/predictionscropped.ipynb#X12sZmlsZQ%3D%3D?line=2'>3</a>\u001b[0m \u001b[39mprint\u001b[39m(translate\u001b[39m.\u001b[39mtext)\n",
      "\u001b[1;31mNameError\u001b[0m: name 'match' is not defined"
     ]
    }
   ],
   "source": [
    "translator = googletrans.Translator()\n",
    "translate=translator.translate(match,dest='arabic')\n",
    "print(translate.text)"
   ]
  }
 ],
 "metadata": {
  "kernelspec": {
   "display_name": "Python 3.10.10 64-bit (microsoft store)",
   "language": "python",
   "name": "python3"
  },
  "language_info": {
   "codemirror_mode": {
    "name": "ipython",
    "version": 3
   },
   "file_extension": ".py",
   "mimetype": "text/x-python",
   "name": "python",
   "nbconvert_exporter": "python",
   "pygments_lexer": "ipython3",
   "version": "3.10.4"
  },
  "orig_nbformat": 4,
  "vscode": {
   "interpreter": {
    "hash": "7b1f2b33e866b0bf2409397e5f58ba9cdf170d3b7f64c8f359c79998e2f88ad4"
   }
  }
 },
 "nbformat": 4,
 "nbformat_minor": 2
}
