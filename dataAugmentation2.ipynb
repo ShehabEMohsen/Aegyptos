{
  "nbformat": 4,
  "nbformat_minor": 0,
  "metadata": {
    "colab": {
      "provenance": [],
      "collapsed_sections": []
    },
    "kernelspec": {
      "name": "python3",
      "display_name": "Python 3"
    },
    "language_info": {
      "name": "python"
    }
  },
  "cells": [
    {
      "cell_type": "code",
      "execution_count": 4,
      "metadata": {
        "colab": {
          "base_uri": "https://localhost:8080/",
          "height": 54
        },
        "id": "y-YXqA7OlIZH",
        "outputId": "8af0941a-9b3a-46cd-cdfc-70747757c734"
      },
      "outputs": [
        {
          "output_type": "stream",
          "name": "stdout",
          "text": [
            "130F2\n",
            "<PIL.JpegImagePlugin.JpegImageFile image mode=RGB size=73x92 at 0x7F2404590390>\n"
          ]
        },
        {
          "output_type": "display_data",
          "data": {
            "text/plain": [
              "<IPython.core.display.Javascript object>"
            ],
            "application/javascript": [
              "\n",
              "    async function download(id, filename, size) {\n",
              "      if (!google.colab.kernel.accessAllowed) {\n",
              "        return;\n",
              "      }\n",
              "      const div = document.createElement('div');\n",
              "      const label = document.createElement('label');\n",
              "      label.textContent = `Downloading \"${filename}\": `;\n",
              "      div.appendChild(label);\n",
              "      const progress = document.createElement('progress');\n",
              "      progress.max = size;\n",
              "      div.appendChild(progress);\n",
              "      document.body.appendChild(div);\n",
              "\n",
              "      const buffers = [];\n",
              "      let downloaded = 0;\n",
              "\n",
              "      const channel = await google.colab.kernel.comms.open(id);\n",
              "      // Send a message to notify the kernel that we're ready.\n",
              "      channel.send({})\n",
              "\n",
              "      for await (const message of channel.messages) {\n",
              "        // Send a message to notify the kernel that we're ready.\n",
              "        channel.send({})\n",
              "        if (message.buffers) {\n",
              "          for (const buffer of message.buffers) {\n",
              "            buffers.push(buffer);\n",
              "            downloaded += buffer.byteLength;\n",
              "            progress.value = downloaded;\n",
              "          }\n",
              "        }\n",
              "      }\n",
              "      const blob = new Blob(buffers, {type: 'application/binary'});\n",
              "      const a = document.createElement('a');\n",
              "      a.href = window.URL.createObjectURL(blob);\n",
              "      a.download = filename;\n",
              "      div.appendChild(a);\n",
              "      a.click();\n",
              "      div.remove();\n",
              "    }\n",
              "  "
            ]
          },
          "metadata": {}
        },
        {
          "output_type": "display_data",
          "data": {
            "text/plain": [
              "<IPython.core.display.Javascript object>"
            ],
            "application/javascript": [
              "download(\"download_09a0256a-ce82-4824-a58e-750581a51d0f\", \"130F2.zip\", 93995)"
            ]
          },
          "metadata": {}
        }
      ],
      "source": [
        "# Importing necessary functions\n",
        "import cv2 as cv\n",
        "import numpy as np\n",
        "# from google.colab import drive\n",
        "# drive.mount('/content/gdrive')\n",
        "# from keras.preprocessing.image import ImageDataGenerator,array_to_img, img_to_array, load_img\n",
        "from keras.preprocessing.image import ImageDataGenerator\n",
        "from tensorflow.keras.utils import img_to_array, load_img\n",
        "import os\n",
        "from google.colab import files\n",
        "# Initialising the ImageDataGenerator class.\n",
        "# We will pass in the augmentation parameters in the constructor.\n",
        "rotation_range=-45\n",
        "shear_range=0.2\n",
        "zoom_range=0.3\n",
        "width_shift_range=0.2\n",
        "channel_shift_range=10\n",
        "x=1\n",
        "while rotation_range<=45:\n",
        "  rotation_range+=10\n",
        "  shear_range+=5\n",
        "  zoom_range+=0.3\n",
        "  width_shift_range+=0.2\n",
        "  channel_shift_range+=10\n",
        "  x+=1\n",
        "  datagen = ImageDataGenerator(\n",
        "        \n",
        "        #  fill_mode='nearest',\n",
        "        #  horizontal_flip=True,\n",
        "        \n",
        "        channel_shift_range=channel_shift_range,\n",
        "        width_shift_range=width_shift_range,\n",
        "        height_shift_range=width_shift_range,\n",
        "        rotation_range = rotation_range,\n",
        "        shear_range = shear_range,\n",
        "        zoom_range = zoom_range,\n",
        "          )\n",
        "\n",
        "  \n",
        "for filename in os.listdir(\"/content/\"):\n",
        "  if filename.endswith(\".jpg\"):\n",
        "    fname = os.path.splitext(filename)[0]\n",
        "    print(fname)\n",
        "    # filename = np.float32(filename)\n",
        "    img = load_img(\"/content/\"+filename)\n",
        "    print (img)\n",
        "    # Converting the input sample image to an array\n",
        "    x = img_to_array(img)\n",
        "    # Reshaping the input image\n",
        "    x = x.reshape((1, ) + x.shape)\n",
        "    os.makedirs(fname)\n",
        "    os.path.join(fname, filename)\n",
        "    i=0\n",
        "    for batch in datagen.flow(x, batch_size = 1,save_to_dir = fname,save_prefix = fname,save_format ='jpg'):\n",
        "      dir_to_zip = fname\n",
        "      output_filename = fname+'.zip'\n",
        "      delete_dir_after_download = \"No\" \n",
        "      os.system( \"zip -r {} {}\".format( output_filename , dir_to_zip ) )\n",
        "      if delete_dir_after_download == \"Yes\":\n",
        "        os.system( \"rm -r {}\".format( dir_to_zip ) )\n",
        "      i += 1\n",
        "      if i > 59:\n",
        "        break\n",
        "\n",
        "    files.download(output_filename)"
      ]
    }
  ]
}